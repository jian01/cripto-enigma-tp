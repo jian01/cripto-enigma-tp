{
 "cells": [
  {
   "cell_type": "markdown",
   "id": "capital-shoot",
   "metadata": {},
   "source": [
    "Este notebook esta basado en el [paper](http://web.archive.org/web/20060720040135/http://members.fortunecity.com/jpeschel/gillog1.htm) utilizado para crackear en el M4 Project."
   ]
  },
  {
   "cell_type": "code",
   "execution_count": 1,
   "id": "oriented-surface",
   "metadata": {},
   "outputs": [],
   "source": [
    "from enigma.enigma import Enigma\n",
    "from enigma.rotors.rotor_with_mapping_and_notches import RotorWithMappingAndNotches\n",
    "from enigma.rotors.rotor_I import RotorI\n",
    "from enigma.rotors.rotor_II import RotorII\n",
    "from enigma.rotors.rotor_III import RotorIII\n",
    "from enigma.rotors.rotor_IV import RotorIV\n",
    "from enigma.rotors.rotor_V import RotorV\n",
    "from enigma.reflectors.reflector_b import ReflectorB\n",
    "from enigma.plugboard import Plugboard\n",
    "from language_models.character_frequency_kld_language_model import CharacterFrequencyKLDLanguageModel\n",
    "from language_models.character_frequency_ic_language_model import CharacterFrequencyICLanguageModel\n",
    "from language_models.markov_chain_model import MarkovChainModel\n",
    "\n",
    "import random\n",
    "from collections import OrderedDict\n",
    "import heapq\n",
    "from itertools import permutations, combinations\n",
    "from tqdm import tqdm\n",
    "from tqdm.auto import trange\n",
    "from multiprocessing import Pool\n",
    "from functools import partial\n",
    "import matplotlib.pyplot as plt\n",
    "import re\n",
    "from Levenshtein import distance"
   ]
  },
  {
   "cell_type": "markdown",
   "id": "collect-booth",
   "metadata": {},
   "source": [
    "# Orden de los rotores\n",
    "\n",
    "Vamos a simular la selección de los rotores I, II, III, IV y V para la Enigma M3 como esta descripto en el paper. Vamos a utilizar siempre el reflector B."
   ]
  },
  {
   "cell_type": "code",
   "execution_count": 2,
   "id": "stone-quantity",
   "metadata": {},
   "outputs": [],
   "source": [
    "POSSIBLE_ROTORS = {RotorI, RotorII, RotorIII, RotorIV, RotorV}\n",
    "POSSIBLE_LETTERS = \"ABCDEFGHIJKLMNOPQRSTUVWXYZ\"\n",
    "\n",
    "def config_to_string(rotors_classes, offsets, ringstellungs, plugboard_tuples):\n",
    "    string = \"\"\n",
    "    for rot, off, rs in zip(rotors_classes, offsets, ringstellungs):\n",
    "        string += rot.__name__+\"(o:%d,rs:%d)\"%(off,rs)+\"|\"\n",
    "    for l1, l2 in plugboard_tuples:\n",
    "        string += l1+l2\n",
    "    return string\n",
    "\n",
    "def get_random_plugboad(plugboard_size: int):\n",
    "    letter_sample = random.sample(list(POSSIBLE_LETTERS), plugboard_size*2)\n",
    "    plugboard_tuples = []\n",
    "    for i in range(len(letter_sample)//2):\n",
    "        plugboard_tuples.append((letter_sample[i*2], letter_sample[(i*2)+1]))\n",
    "    plugboard_tuples = sorted(plugboard_tuples, key=lambda x: x[0])\n",
    "    return plugboard_tuples\n",
    "\n",
    "def get_random_config(plugboard_size: int):\n",
    "    rotors_to_use = random.sample(POSSIBLE_ROTORS, 3)\n",
    "    offsets = [random.randint(0,25) for _ in range(3)]\n",
    "    ringstellungs = [random.randint(0,25) for _ in range(3)]\n",
    "    plugboard_tuples = get_random_plugboad(plugboard_size)\n",
    "    return rotors_to_use, offsets, ringstellungs, plugboard_tuples\n",
    "\n",
    "def transform_to_valid_chars(text: str):\n",
    "    text = text.upper()\n",
    "    return \"\".join([c for c in text if c in POSSIBLE_LETTERS])\n",
    "\n",
    "def string_to_config(string: str):\n",
    "    match = re.findall(\"(.+)\\(o:(\\d+),rs:(\\d+)\\)\\|(.+)\\(o:(\\d+),rs:(\\d+)\\)\\|(.+)\\(o:(\\d+),rs:(\\d+)\\)\\|(.*)\", \n",
    "                       string, re.IGNORECASE)[0]\n",
    "    available_rotors = {rot.__name__:rot for rot in RotorWithMappingAndNotches.__subclasses__()}\n",
    "    rotors_classes = [available_rotors[match[0]], available_rotors[match[3]], available_rotors[match[6]]]\n",
    "    offsets = [int(match[1]), int(match[4]), int(match[7])]\n",
    "    ringstellungs = [int(match[2]), int(match[5]), int(match[8])]\n",
    "    plugboard_tuples = []\n",
    "    for i in range(len(match[9])//2):\n",
    "        plugboard_tuples.append((match[9][i*2],match[9][(i*2)+1]))\n",
    "    return rotors_classes, offsets, ringstellungs, plugboard_tuples\n",
    "        "
   ]
  },
  {
   "cell_type": "code",
   "execution_count": 3,
   "id": "developed-grammar",
   "metadata": {},
   "outputs": [
    {
     "data": {
      "text/plain": [
       "'RotorII(o:21,rs:3)|RotorI(o:1,rs:2)|RotorIII(o:9,rs:19)|EUFPGAHJNDQOSIXCYMZT'"
      ]
     },
     "execution_count": 3,
     "metadata": {},
     "output_type": "execute_result"
    }
   ],
   "source": [
    "config_to_string(*get_random_config(10))"
   ]
  },
  {
   "cell_type": "code",
   "execution_count": 4,
   "id": "rapid-softball",
   "metadata": {},
   "outputs": [
    {
     "data": {
      "text/plain": [
       "([enigma.rotors.rotor_II.RotorII,\n",
       "  enigma.rotors.rotor_IV.RotorIV,\n",
       "  enigma.rotors.rotor_III.RotorIII],\n",
       " [7, 25, 6],\n",
       " [7, 6, 24],\n",
       " [('C', 'F'),\n",
       "  ('D', 'N'),\n",
       "  ('H', 'R'),\n",
       "  ('K', 'Z'),\n",
       "  ('L', 'S'),\n",
       "  ('O', 'J'),\n",
       "  ('V', 'I'),\n",
       "  ('W', 'M'),\n",
       "  ('X', 'Q'),\n",
       "  ('Y', 'U')])"
      ]
     },
     "execution_count": 4,
     "metadata": {},
     "output_type": "execute_result"
    }
   ],
   "source": [
    "string_to_config(config_to_string(*get_random_config(10)))"
   ]
  },
  {
   "cell_type": "code",
   "execution_count": 5,
   "id": "utility-journey",
   "metadata": {},
   "outputs": [],
   "source": [
    "with open('books/Alices_Adventures_in_Wonderland.txt', 'r') as book:\n",
    "    book_train = transform_to_valid_chars(book.read())\n",
    "with open('books/Pride_and_Prejudice.txt', 'r') as book:\n",
    "    book_test = transform_to_valid_chars(book.read())"
   ]
  },
  {
   "cell_type": "code",
   "execution_count": 6,
   "id": "attractive-crack",
   "metadata": {},
   "outputs": [],
   "source": [
    "kld_char_freq = CharacterFrequencyKLDLanguageModel(book_train)\n",
    "ic_char_freq = CharacterFrequencyICLanguageModel(book_train)\n",
    "markov_chain1 = MarkovChainModel(book_train)"
   ]
  },
  {
   "cell_type": "code",
   "execution_count": 7,
   "id": "australian-integral",
   "metadata": {},
   "outputs": [
    {
     "data": {
      "text/plain": [
       "'RotorI(o:17,rs:2)|RotorV(o:8,rs:12)|RotorII(o:18,rs:24)|CG'"
      ]
     },
     "execution_count": 7,
     "metadata": {},
     "output_type": "execute_result"
    }
   ],
   "source": [
    "TEST_TEXT_LENGHT = 1000\n",
    "DEFAULT_PLUGBOARD_SIZE = 1\n",
    "\n",
    "rotors, offsets, ringstellungs, plugboard_tuples =get_random_config(DEFAULT_PLUGBOARD_SIZE)\n",
    "random_config_key = config_to_string(rotors,offsets,ringstellungs,plugboard_tuples)\n",
    "random_test_pos = random.randint(0,len(book_test)- TEST_TEXT_LENGHT)\n",
    "random_text_test = book_test[random_test_pos:random_test_pos+TEST_TEXT_LENGHT]\n",
    "rotors_to_use = [rot_c(offset=off, ring_setting=rs) \n",
    "                 for rot_c, off, rs in zip(rotors, offsets, ringstellungs)]\n",
    "random_engima = Enigma(reflector=ReflectorB(),\n",
    "                      plugboard=Plugboard(plugboard_tuples), rotors=rotors_to_use)\n",
    "cyphertext = random_engima.encrypt(random_text_test)\n",
    "random_config_key"
   ]
  },
  {
   "cell_type": "code",
   "execution_count": 8,
   "id": "available-discipline",
   "metadata": {},
   "outputs": [
    {
     "data": {
      "text/plain": [
       "(-0.05097182192800292, -0.06101980926779671, -56.609340744978084)"
      ]
     },
     "execution_count": 8,
     "metadata": {},
     "output_type": "execute_result"
    }
   ],
   "source": [
    "kld_char_freq.fitness(random_text_test), ic_char_freq.fitness(random_text_test), markov_chain1.fitness(random_text_test)"
   ]
  },
  {
   "cell_type": "markdown",
   "id": "nonprofit-danger",
   "metadata": {},
   "source": [
    "### Explorar todos los rotores"
   ]
  },
  {
   "cell_type": "code",
   "execution_count": 9,
   "id": "central-expense",
   "metadata": {},
   "outputs": [
    {
     "name": "stderr",
     "output_type": "stream",
     "text": [
      "100%|██████████| 17576/17576 [00:41<00:00, 424.99it/s]\n",
      "100%|██████████| 17576/17576 [00:41<00:00, 425.23it/s]\n",
      "100%|██████████| 17576/17576 [00:40<00:00, 429.05it/s]\n",
      "100%|██████████| 17576/17576 [00:40<00:00, 432.44it/s]\n",
      "100%|██████████| 17576/17576 [00:40<00:00, 431.65it/s]\n",
      "100%|██████████| 17576/17576 [00:40<00:00, 431.39it/s]\n",
      "100%|██████████| 17576/17576 [00:40<00:00, 433.15it/s]\n",
      "100%|██████████| 17576/17576 [00:41<00:00, 427.98it/s]\n",
      "100%|██████████| 17576/17576 [00:41<00:00, 427.19it/s]\n",
      "100%|██████████| 17576/17576 [00:40<00:00, 430.48it/s]\n",
      "100%|██████████| 17576/17576 [00:40<00:00, 431.45it/s]\n",
      "100%|██████████| 17576/17576 [00:40<00:00, 432.27it/s]\n",
      "100%|██████████| 17576/17576 [00:41<00:00, 428.53it/s]\n",
      "100%|██████████| 17576/17576 [00:40<00:00, 429.00it/s]\n",
      "100%|██████████| 17576/17576 [00:41<00:00, 428.47it/s]\n",
      "100%|██████████| 17576/17576 [00:41<00:00, 427.92it/s]\n",
      "100%|██████████| 17576/17576 [00:40<00:00, 432.69it/s]\n",
      "100%|██████████| 17576/17576 [00:40<00:00, 432.76it/s]\n",
      "100%|██████████| 17576/17576 [00:40<00:00, 429.28it/s]\n",
      "100%|██████████| 17576/17576 [00:40<00:00, 436.17it/s]\n",
      "100%|██████████| 17576/17576 [00:41<00:00, 428.44it/s]\n",
      "100%|██████████| 17576/17576 [00:40<00:00, 429.92it/s]\n",
      "100%|██████████| 17576/17576 [00:40<00:00, 431.52it/s]\n",
      "100%|██████████| 17576/17576 [00:40<00:00, 432.97it/s]\n",
      "100%|██████████| 17576/17576 [00:40<00:00, 430.22it/s]\n",
      "100%|██████████| 17576/17576 [00:40<00:00, 434.44it/s]\n",
      "100%|██████████| 17576/17576 [00:40<00:00, 431.29it/s]\n",
      "100%|██████████| 17576/17576 [00:40<00:00, 429.09it/s]\n",
      "100%|██████████| 17576/17576 [00:40<00:00, 433.78it/s]\n",
      "100%|██████████| 17576/17576 [00:40<00:00, 432.19it/s]\n",
      "100%|██████████| 17576/17576 [00:40<00:00, 433.22it/s]\n",
      "100%|██████████| 17576/17576 [00:40<00:00, 432.37it/s]\n",
      "100%|██████████| 17576/17576 [00:41<00:00, 422.86it/s]\n",
      "100%|██████████| 17576/17576 [00:40<00:00, 432.09it/s]\n",
      "100%|██████████| 17576/17576 [00:40<00:00, 432.96it/s]\n",
      "100%|██████████| 17576/17576 [00:40<00:00, 437.04it/s]\n",
      "100%|██████████| 17576/17576 [00:40<00:00, 430.81it/s]\n",
      "100%|██████████| 17576/17576 [00:40<00:00, 430.85it/s]\n",
      "100%|██████████| 17576/17576 [00:40<00:00, 433.13it/s]\n",
      "100%|██████████| 17576/17576 [00:40<00:00, 433.61it/s]\n",
      "100%|██████████| 17576/17576 [00:41<00:00, 424.12it/s]\n",
      "100%|██████████| 17576/17576 [00:41<00:00, 419.16it/s]\n",
      "100%|██████████| 17576/17576 [00:41<00:00, 427.82it/s]\n",
      "100%|██████████| 17576/17576 [00:41<00:00, 428.14it/s]\n",
      "100%|██████████| 17576/17576 [00:41<00:00, 427.96it/s]\n",
      "100%|██████████| 17576/17576 [00:40<00:00, 430.68it/s]\n",
      "100%|██████████| 17576/17576 [00:40<00:00, 428.93it/s]\n",
      "100%|██████████| 17576/17576 [00:40<00:00, 433.16it/s]\n",
      "100%|██████████| 17576/17576 [00:41<00:00, 427.61it/s]\n",
      "100%|██████████| 17576/17576 [00:40<00:00, 428.72it/s]\n",
      "100%|██████████| 17576/17576 [00:40<00:00, 429.30it/s]\n",
      "100%|██████████| 17576/17576 [00:41<00:00, 424.81it/s]\n",
      "100%|██████████| 17576/17576 [00:40<00:00, 432.93it/s]\n",
      "100%|██████████| 17576/17576 [00:40<00:00, 434.59it/s]\n",
      "100%|██████████| 17576/17576 [00:40<00:00, 430.68it/s]\n",
      "100%|██████████| 17576/17576 [00:41<00:00, 426.65it/s]\n",
      "100%|██████████| 17576/17576 [00:40<00:00, 429.25it/s]\n",
      "100%|██████████| 17576/17576 [00:41<00:00, 426.05it/s]\n",
      "100%|██████████| 17576/17576 [00:40<00:00, 429.04it/s]\n",
      "100%|██████████| 17576/17576 [00:41<00:00, 425.03it/s]\n"
     ]
    }
   ],
   "source": [
    "scores = {}\n",
    "\n",
    "def compute_scores(rot1, rot2, rot3, offsets):\n",
    "    off1 = offsets % 26\n",
    "    off2 = (offsets//26) % 26\n",
    "    off3 = (offsets//(26**2)) % 26\n",
    "    enigma = Enigma(reflector=ReflectorB(),\n",
    "                      plugboard=Plugboard(), \n",
    "                        rotors=[rot1(offset=off1), rot2(offset=off2), rot3(offset=off3)])\n",
    "    decrypted = enigma.decrypt(cyphertext)\n",
    "    config = config_to_string([rot1, rot2, rot3], [off1,off2,off3], [0,0,0], [])\n",
    "    return config, {'KLD': kld_char_freq.fitness(decrypted), 'IC': ic_char_freq.fitness(decrypted), 'Markov': markov_chain1.fitness(decrypted)}\n",
    "\n",
    "for rot1, rot2, rot3 in permutations(POSSIBLE_ROTORS, 3):\n",
    "    with Pool(5) as p:\n",
    "        partial_compute = partial(compute_scores, rot1, rot2, rot3)\n",
    "        r = list(tqdm(p.imap(partial_compute, range(26**3)), total=26**3))\n",
    "    for c, s in r:\n",
    "        scores[c] = s"
   ]
  },
  {
   "cell_type": "code",
   "execution_count": 10,
   "id": "favorite-folder",
   "metadata": {},
   "outputs": [
    {
     "data": {
      "image/png": "[encoded data removed]",
      "text/plain": [
       "<Figure size 900x600 with 1 Axes>"
      ]
     },
     "metadata": {
      "needs_background": "light"
     },
     "output_type": "display_data"
    }
   ],
   "source": [
    "plt.figure(dpi=150)\n",
    "plt.title(\"Distribución del score IC\")\n",
    "plt.hist([s['IC'] for s in scores.values()], bins=30)\n",
    "plt.show()"
   ]
  },
  {
   "cell_type": "code",
   "execution_count": 11,
   "id": "automotive-vault",
   "metadata": {},
   "outputs": [
    {
     "data": {
      "image/png": "[encoded data removed]",
      "text/plain": [
       "<Figure size 900x600 with 1 Axes>"
      ]
     },
     "metadata": {
      "needs_background": "light"
     },
     "output_type": "display_data"
    }
   ],
   "source": [
    "plt.figure(dpi=150)\n",
    "plt.title(\"Distribución del score KLD\")\n",
    "plt.hist([s['KLD'] for s in scores.values()], bins=30)\n",
    "plt.show()"
   ]
  },
  {
   "cell_type": "code",
   "execution_count": 12,
   "id": "surrounded-declaration",
   "metadata": {},
   "outputs": [
    {
     "data": {
      "image/png": "[encoded data removed]",
      "text/plain": [
       "<Figure size 900x600 with 1 Axes>"
      ]
     },
     "metadata": {
      "needs_background": "light"
     },
     "output_type": "display_data"
    }
   ],
   "source": [
    "plt.figure(dpi=150)\n",
    "plt.title(\"Distribución del score de Markov\")\n",
    "plt.hist([s['Markov'] for s in scores.values()], bins=30)\n",
    "plt.show()"
   ]
  },
  {
   "cell_type": "code",
   "execution_count": 13,
   "id": "english-million",
   "metadata": {},
   "outputs": [
    {
     "data": {
      "text/plain": [
       "[('RotorI(o:15,rs:0)|RotorV(o:21,rs:0)|RotorII(o:19,rs:0)|',\n",
       "  -0.5638946841426715),\n",
       " ('RotorI(o:15,rs:0)|RotorV(o:21,rs:0)|RotorII(o:20,rs:0)|',\n",
       "  -0.6575363257843132),\n",
       " ('RotorV(o:21,rs:0)|RotorIII(o:15,rs:0)|RotorIV(o:15,rs:0)|',\n",
       "  -0.66430309255108),\n",
       " ('RotorIII(o:17,rs:0)|RotorIV(o:1,rs:0)|RotorI(o:14,rs:0)|',\n",
       "  -0.6658126020605895),\n",
       " ('RotorV(o:17,rs:0)|RotorIV(o:5,rs:0)|RotorI(o:16,rs:0)|',\n",
       "  -0.6670097992577866),\n",
       " ('RotorI(o:13,rs:0)|RotorII(o:0,rs:0)|RotorIV(o:21,rs:0)|',\n",
       "  -0.6683111005590878),\n",
       " ('RotorIV(o:3,rs:0)|RotorIII(o:11,rs:0)|RotorV(o:11,rs:0)|',\n",
       "  -0.6684672567152441),\n",
       " ('RotorI(o:6,rs:0)|RotorII(o:2,rs:0)|RotorIV(o:12,rs:0)|',\n",
       "  -0.6688316210796084),\n",
       " ('RotorI(o:4,rs:0)|RotorIII(o:25,rs:0)|RotorV(o:5,rs:0)|',\n",
       "  -0.6693521416001289),\n",
       " ('RotorIII(o:18,rs:0)|RotorI(o:12,rs:0)|RotorIV(o:23,rs:0)|',\n",
       "  -0.6693521416001289)]"
      ]
     },
     "execution_count": 13,
     "metadata": {},
     "output_type": "execute_result"
    }
   ],
   "source": [
    "top_ic = sorted([(c,s['IC']) for c,s in scores.items()], key=lambda x: x[1], reverse=True)\n",
    "top_ic[:10]"
   ]
  },
  {
   "cell_type": "code",
   "execution_count": 14,
   "id": "executed-armenia",
   "metadata": {},
   "outputs": [
    {
     "data": {
      "text/plain": [
       "[('RotorI(o:15,rs:0)|RotorV(o:21,rs:0)|RotorII(o:19,rs:0)|',\n",
       "  -0.14782910998618512),\n",
       " ('RotorI(o:15,rs:0)|RotorV(o:21,rs:0)|RotorII(o:20,rs:0)|',\n",
       "  -0.2131152355487701),\n",
       " ('RotorIV(o:7,rs:0)|RotorII(o:13,rs:0)|RotorV(o:2,rs:0)|',\n",
       "  -0.25936495613819566),\n",
       " ('RotorIII(o:8,rs:0)|RotorIV(o:0,rs:0)|RotorI(o:9,rs:0)|',\n",
       "  -0.26072682946220926),\n",
       " ('RotorV(o:21,rs:0)|RotorIV(o:21,rs:0)|RotorI(o:16,rs:0)|',\n",
       "  -0.26372486664163464),\n",
       " ('RotorII(o:0,rs:0)|RotorIV(o:25,rs:0)|RotorI(o:11,rs:0)|',\n",
       "  -0.26828692711003443),\n",
       " ('RotorV(o:13,rs:0)|RotorIII(o:5,rs:0)|RotorIV(o:20,rs:0)|',\n",
       "  -0.26861152023683166),\n",
       " ('RotorI(o:17,rs:0)|RotorIV(o:13,rs:0)|RotorV(o:5,rs:0)|',\n",
       "  -0.2695340276227604),\n",
       " ('RotorI(o:2,rs:0)|RotorV(o:9,rs:0)|RotorII(o:14,rs:0)|',\n",
       "  -0.26954673247556316),\n",
       " ('RotorIV(o:8,rs:0)|RotorI(o:5,rs:0)|RotorIII(o:10,rs:0)|',\n",
       "  -0.27022756000587156)]"
      ]
     },
     "execution_count": 14,
     "metadata": {},
     "output_type": "execute_result"
    }
   ],
   "source": [
    "top_kld = sorted([(c,s['KLD']) for c,s in scores.items()], key=lambda x: x[1], reverse=True)\n",
    "top_kld[:10]"
   ]
  },
  {
   "cell_type": "code",
   "execution_count": 15,
   "id": "hispanic-workplace",
   "metadata": {},
   "outputs": [
    {
     "data": {
      "text/plain": [
       "[('RotorI(o:15,rs:0)|RotorV(o:21,rs:0)|RotorII(o:19,rs:0)|',\n",
       "  -22.718963146546034),\n",
       " ('RotorI(o:15,rs:0)|RotorV(o:21,rs:0)|RotorII(o:20,rs:0)|',\n",
       "  -24.128936435110724),\n",
       " ('RotorIV(o:16,rs:0)|RotorV(o:6,rs:0)|RotorI(o:11,rs:0)|',\n",
       "  -25.53146747362302),\n",
       " ('RotorII(o:7,rs:0)|RotorIII(o:2,rs:0)|RotorIV(o:23,rs:0)|',\n",
       "  -25.68124343745296),\n",
       " ('RotorI(o:25,rs:0)|RotorII(o:7,rs:0)|RotorIV(o:25,rs:0)|',\n",
       "  -25.69015466698458),\n",
       " ('RotorIV(o:12,rs:0)|RotorV(o:23,rs:0)|RotorIII(o:21,rs:0)|',\n",
       "  -25.76664889899842),\n",
       " ('RotorIII(o:16,rs:0)|RotorII(o:5,rs:0)|RotorV(o:23,rs:0)|',\n",
       "  -25.79349315331161),\n",
       " ('RotorV(o:25,rs:0)|RotorIV(o:25,rs:0)|RotorI(o:8,rs:0)|',\n",
       "  -25.822249166017105),\n",
       " ('RotorIII(o:16,rs:0)|RotorIV(o:1,rs:0)|RotorII(o:14,rs:0)|',\n",
       "  -25.82691923184708),\n",
       " ('RotorIII(o:21,rs:0)|RotorIV(o:11,rs:0)|RotorI(o:7,rs:0)|',\n",
       "  -25.876995933632948)]"
      ]
     },
     "execution_count": 15,
     "metadata": {},
     "output_type": "execute_result"
    }
   ],
   "source": [
    "top_markov = sorted([(c,s['Markov']) for c,s in scores.items()], key=lambda x: x[1], reverse=True)\n",
    "top_markov[:10]"
   ]
  },
  {
   "cell_type": "markdown",
   "id": "alike-computer",
   "metadata": {},
   "source": [
    "# Ringstellung"
   ]
  },
  {
   "cell_type": "code",
   "execution_count": 16,
   "id": "compound-address",
   "metadata": {},
   "outputs": [
    {
     "name": "stderr",
     "output_type": "stream",
     "text": [
      "100%|██████████| 17576/17576 [00:41<00:00, 419.58it/s]\n",
      "100%|██████████| 17576/17576 [00:42<00:00, 418.15it/s]\n",
      "100%|██████████| 17576/17576 [00:41<00:00, 427.97it/s]\n",
      "100%|██████████| 17576/17576 [00:40<00:00, 428.81it/s]\n",
      "100%|██████████| 17576/17576 [00:40<00:00, 431.45it/s]\n",
      "100%|██████████| 17576/17576 [00:41<00:00, 426.22it/s]\n",
      "100%|██████████| 17576/17576 [00:40<00:00, 429.55it/s]\n",
      "100%|██████████| 17576/17576 [00:41<00:00, 428.46it/s]\n",
      "100%|██████████| 17576/17576 [00:40<00:00, 432.25it/s]\n",
      "100%|██████████| 17576/17576 [00:41<00:00, 418.87it/s]\n",
      "100%|██████████| 17576/17576 [00:40<00:00, 432.41it/s]\n",
      "100%|██████████| 17576/17576 [00:40<00:00, 436.14it/s]\n",
      "100%|██████████| 17576/17576 [00:40<00:00, 429.90it/s]\n",
      "100%|██████████| 17576/17576 [00:40<00:00, 430.99it/s]\n",
      "100%|██████████| 17576/17576 [00:40<00:00, 433.08it/s]\n",
      "100%|██████████| 17576/17576 [00:40<00:00, 431.39it/s]\n",
      "100%|██████████| 17576/17576 [00:40<00:00, 433.36it/s]\n",
      "100%|██████████| 17576/17576 [00:40<00:00, 431.38it/s]\n"
     ]
    }
   ],
   "source": [
    "TOP_TO_CHOICE = 6\n",
    "\n",
    "best_choices = ([t[0] for t in top_ic[:TOP_TO_CHOICE]]+\n",
    "                [t[0] for t in top_kld[:TOP_TO_CHOICE]]+\n",
    "                [t[0] for t in top_markov[:TOP_TO_CHOICE]])\n",
    "\n",
    "# (rotors_classes, offsets, ringstellungs, plugboard_tuples)\n",
    "best_choices = [string_to_config(c) for c in best_choices]\n",
    "\n",
    "def compute_rs_score(rot1, rot2, rot3, offsets, ringstellungs):\n",
    "    off1, off2, off3 = offsets\n",
    "    rs1 = ringstellungs % 26\n",
    "    rs2 = (ringstellungs//26) % 26\n",
    "    rs3 = (ringstellungs//(26**2)) % 26\n",
    "    enigma = Enigma(reflector=ReflectorB(),\n",
    "                      plugboard=Plugboard(), \n",
    "                        rotors=[rot1(offset=off1,ring_setting=rs1), \n",
    "                                rot2(offset=off2,ring_setting=rs2), \n",
    "                                rot3(offset=off3,ring_setting=rs3)])\n",
    "    decrypted = enigma.decrypt(cyphertext)\n",
    "    config = config_to_string([rot1, rot2, rot3], [off1,off2,off3], [rs1,rs2,rs3], [])\n",
    "    return config, {'KLD': kld_char_freq.fitness(decrypted), 'IC': ic_char_freq.fitness(decrypted), 'Markov': markov_chain1.fitness(decrypted)}\n",
    "\n",
    "ringstellung_scores = {}\n",
    "\n",
    "for choice in best_choices:\n",
    "    rot1, rot2, rot3 = choice[0]\n",
    "    with Pool(5) as p:\n",
    "        partial_compute = partial(compute_rs_score, rot1, rot2, rot3, choice[1])\n",
    "        r = list(tqdm(p.imap(partial_compute, range(26**3)), total=26**3))\n",
    "    for c, s in r:\n",
    "        ringstellung_scores[c] = s"
   ]
  },
  {
   "cell_type": "code",
   "execution_count": 17,
   "id": "filled-diving",
   "metadata": {},
   "outputs": [
    {
     "data": {
      "text/plain": [
       "[('RotorI(o:15,rs:0)|RotorV(o:21,rs:0)|RotorII(o:19,rs:0)|',\n",
       "  -0.5638946841426715),\n",
       " ('RotorI(o:15,rs:0)|RotorV(o:21,rs:0)|RotorII(o:20,rs:1)|',\n",
       "  -0.5638946841426715),\n",
       " ('RotorI(o:15,rs:0)|RotorV(o:21,rs:0)|RotorII(o:19,rs:25)|',\n",
       "  -0.6575363257843132),\n",
       " ('RotorI(o:15,rs:0)|RotorV(o:21,rs:0)|RotorII(o:20,rs:0)|',\n",
       "  -0.6575363257843132),\n",
       " ('RotorV(o:21,rs:0)|RotorIII(o:15,rs:0)|RotorIV(o:15,rs:0)|',\n",
       "  -0.66430309255108),\n",
       " ('RotorIII(o:17,rs:0)|RotorIV(o:1,rs:0)|RotorI(o:14,rs:0)|',\n",
       "  -0.6658126020605895),\n",
       " ('RotorV(o:17,rs:0)|RotorIV(o:5,rs:0)|RotorI(o:16,rs:0)|',\n",
       "  -0.6670097992577866),\n",
       " ('RotorIII(o:8,rs:12)|RotorIV(o:0,rs:20)|RotorI(o:9,rs:6)|',\n",
       "  -0.6681028923508798),\n",
       " ('RotorI(o:13,rs:0)|RotorII(o:0,rs:0)|RotorIV(o:21,rs:0)|',\n",
       "  -0.6683111005590878),\n",
       " ('RotorIV(o:12,rs:3)|RotorV(o:23,rs:1)|RotorIII(o:21,rs:11)|',\n",
       "  -0.6698726621206494)]"
      ]
     },
     "execution_count": 17,
     "metadata": {},
     "output_type": "execute_result"
    }
   ],
   "source": [
    "top_ic_rs = sorted([(c,s['IC']) for c,s in ringstellung_scores.items()], key=lambda x: x[1], reverse=True)\n",
    "top_ic_rs[:10]"
   ]
  },
  {
   "cell_type": "code",
   "execution_count": 18,
   "id": "royal-palestine",
   "metadata": {},
   "outputs": [
    {
     "data": {
      "text/plain": [
       "[('RotorI(o:15,rs:0)|RotorV(o:21,rs:0)|RotorII(o:19,rs:0)|',\n",
       "  -0.14782910998618512),\n",
       " ('RotorI(o:15,rs:0)|RotorV(o:21,rs:0)|RotorII(o:20,rs:0)|',\n",
       "  -0.2131152355487701),\n",
       " ('RotorIV(o:7,rs:0)|RotorII(o:13,rs:0)|RotorV(o:2,rs:0)|',\n",
       "  -0.25936495613819566),\n",
       " ('RotorIII(o:8,rs:0)|RotorIV(o:0,rs:0)|RotorI(o:9,rs:0)|',\n",
       "  -0.26072682946220926),\n",
       " ('RotorV(o:21,rs:0)|RotorIV(o:21,rs:0)|RotorI(o:16,rs:0)|',\n",
       "  -0.26372486664163464),\n",
       " ('RotorII(o:0,rs:0)|RotorIV(o:25,rs:0)|RotorI(o:11,rs:0)|',\n",
       "  -0.26828692711003443),\n",
       " ('RotorV(o:13,rs:0)|RotorIII(o:5,rs:0)|RotorIV(o:20,rs:0)|',\n",
       "  -0.26861152023683166),\n",
       " ('RotorI(o:17,rs:0)|RotorIV(o:13,rs:0)|RotorV(o:5,rs:0)|',\n",
       "  -0.2695340276227604),\n",
       " ('RotorI(o:2,rs:0)|RotorV(o:9,rs:0)|RotorII(o:14,rs:0)|',\n",
       "  -0.26954673247556316),\n",
       " ('RotorIV(o:8,rs:0)|RotorI(o:5,rs:0)|RotorIII(o:10,rs:0)|',\n",
       "  -0.27022756000587156)]"
      ]
     },
     "execution_count": 18,
     "metadata": {},
     "output_type": "execute_result"
    }
   ],
   "source": [
    "top_kld_rs = sorted([(c,s['KLD']) for c,s in scores.items()], key=lambda x: x[1], reverse=True)\n",
    "top_kld_rs[:10]"
   ]
  },
  {
   "cell_type": "code",
   "execution_count": 19,
   "id": "after-anatomy",
   "metadata": {},
   "outputs": [
    {
     "data": {
      "text/plain": [
       "[('RotorI(o:15,rs:0)|RotorV(o:21,rs:0)|RotorII(o:19,rs:0)|',\n",
       "  -22.718963146546034),\n",
       " ('RotorI(o:15,rs:0)|RotorV(o:21,rs:0)|RotorII(o:20,rs:0)|',\n",
       "  -24.128936435110724),\n",
       " ('RotorIV(o:16,rs:0)|RotorV(o:6,rs:0)|RotorI(o:11,rs:0)|',\n",
       "  -25.53146747362302),\n",
       " ('RotorII(o:7,rs:0)|RotorIII(o:2,rs:0)|RotorIV(o:23,rs:0)|',\n",
       "  -25.68124343745296),\n",
       " ('RotorI(o:25,rs:0)|RotorII(o:7,rs:0)|RotorIV(o:25,rs:0)|',\n",
       "  -25.69015466698458),\n",
       " ('RotorIV(o:12,rs:0)|RotorV(o:23,rs:0)|RotorIII(o:21,rs:0)|',\n",
       "  -25.76664889899842),\n",
       " ('RotorIII(o:16,rs:0)|RotorII(o:5,rs:0)|RotorV(o:23,rs:0)|',\n",
       "  -25.79349315331161),\n",
       " ('RotorV(o:25,rs:0)|RotorIV(o:25,rs:0)|RotorI(o:8,rs:0)|',\n",
       "  -25.822249166017105),\n",
       " ('RotorIII(o:16,rs:0)|RotorIV(o:1,rs:0)|RotorII(o:14,rs:0)|',\n",
       "  -25.82691923184708),\n",
       " ('RotorIII(o:21,rs:0)|RotorIV(o:11,rs:0)|RotorI(o:7,rs:0)|',\n",
       "  -25.876995933632948)]"
      ]
     },
     "execution_count": 19,
     "metadata": {},
     "output_type": "execute_result"
    }
   ],
   "source": [
    "top_markov_rs = sorted([(c,s['Markov']) for c,s in scores.items()], key=lambda x: x[1], reverse=True)\n",
    "top_markov_rs[:10]"
   ]
  },
  {
   "cell_type": "markdown",
   "id": "suspected-funeral",
   "metadata": {},
   "source": [
    "# Explore plugboard"
   ]
  },
  {
   "cell_type": "code",
   "execution_count": 23,
   "id": "reflected-advancement",
   "metadata": {},
   "outputs": [
    {
     "name": "stderr",
     "output_type": "stream",
     "text": [
      "100%|██████████| 9/9 [00:06<00:00,  1.47it/s]\n",
      "100%|██████████| 9/9 [00:06<00:00,  1.43it/s]\n",
      "100%|██████████| 9/9 [00:07<00:00,  1.25it/s]\n"
     ]
    }
   ],
   "source": [
    "TOP_TO_CHOICE = 3\n",
    "\n",
    "best_choices = ([t[0] for t in top_ic_rs[:TOP_TO_CHOICE]]+\n",
    "                [t[0] for t in top_kld_rs[:TOP_TO_CHOICE]]+\n",
    "                [t[0] for t in top_markov_rs[:TOP_TO_CHOICE]])\n",
    "\n",
    "# (rotors_classes, offsets, ringstellungs, plugboard_tuples)\n",
    "best_choices = [string_to_config(c) for c in best_choices]\n",
    "\n",
    "def find_best_plugboards(lang_model, choice):\n",
    "    rotors_classes, offsets, ringstellungs, _ = choice\n",
    "    rot1, rot2, rot3 = rotors_classes\n",
    "    off1, off2, off3 = offsets\n",
    "    rs1, rs2, rs3 = ringstellungs\n",
    "    actual_pb = []\n",
    "    for _ in range(DEFAULT_PLUGBOARD_SIZE):\n",
    "        actual_letters = POSSIBLE_LETTERS\n",
    "        for l1, l2 in actual_pb:\n",
    "            actual_letters = actual_letters.replace(l1,\"\").replace(l2,\"\")\n",
    "        best_tuple = (('A','A'), -999999)\n",
    "        \n",
    "        for l1, l2 in combinations(list(actual_letters), 2):\n",
    "            enigma = Enigma(reflector=ReflectorB(),\n",
    "                              plugboard=Plugboard(actual_pb+[(l1,l2)]), \n",
    "                                rotors=[rot1(offset=off1,ring_setting=rs1), \n",
    "                                        rot2(offset=off2,ring_setting=rs2), \n",
    "                                        rot3(offset=off3,ring_setting=rs3)])\n",
    "            decrypted = enigma.decrypt(cyphertext)\n",
    "            score = lang_model.fitness(decrypted)\n",
    "            if score > best_tuple[1]:\n",
    "                best_tuple = ((l1, l2), score)\n",
    "        actual_pb.append(best_tuple[0])\n",
    "        \n",
    "    return actual_pb\n",
    "\n",
    "with Pool(5) as p:\n",
    "    partial_finder = partial(find_best_plugboards, ic_char_freq)\n",
    "    pbs_ic = list(tqdm(p.imap(partial_finder, best_choices), total=9))\n",
    "with Pool(5) as p:\n",
    "    partial_finder = partial(find_best_plugboards, kld_char_freq)\n",
    "    pbs_kld = list(tqdm(p.imap(partial_finder, best_choices), total=9))\n",
    "with Pool(5) as p:\n",
    "    partial_finder = partial(find_best_plugboards, markov_chain1)\n",
    "    pbs_markov = list(tqdm(p.imap(partial_finder, best_choices), total=9))"
   ]
  },
  {
   "cell_type": "code",
   "execution_count": 24,
   "id": "august-vehicle",
   "metadata": {},
   "outputs": [],
   "source": [
    "final_scores = {}\n",
    "\n",
    "for i in range(len(best_choices)):\n",
    "    rotors_classes, offsets, ringstellungs, _ = best_choices[i]\n",
    "    rot1, rot2, rot3 = rotors_classes\n",
    "    off1, off2, off3 = offsets\n",
    "    rs1, rs2, rs3 = ringstellungs\n",
    "    for pb in [pbs_ic[i]]+[pbs_kld[i]]+[pbs_markov[i]]:\n",
    "        enigma = Enigma(reflector=ReflectorB(),\n",
    "                      plugboard=Plugboard(pb), \n",
    "                        rotors=[rot1(offset=off1,ring_setting=rs1), \n",
    "                                rot2(offset=off2,ring_setting=rs2), \n",
    "                                rot3(offset=off3,ring_setting=rs3)])\n",
    "        decrypted = enigma.decrypt(cyphertext)\n",
    "        config = config_to_string([rot1, rot2, rot3], [off1,off2,off3], [rs1,rs2,rs3], pb)\n",
    "        final_scores[config] = ({'KLD': kld_char_freq.fitness(decrypted), 'IC': ic_char_freq.fitness(decrypted), 'Markov': markov_chain1.fitness(decrypted)}, decrypted)\n",
    "    "
   ]
  },
  {
   "cell_type": "code",
   "execution_count": 31,
   "id": "textile-affair",
   "metadata": {},
   "outputs": [
    {
     "data": {
      "text/plain": [
       "[('RotorI(o:15,rs:0)|RotorV(o:21,rs:0)|RotorII(o:19,rs:0)|CG', 427),\n",
       " ('RotorI(o:15,rs:0)|RotorV(o:21,rs:0)|RotorII(o:19,rs:0)|GQ', 514),\n",
       " ('RotorI(o:15,rs:0)|RotorV(o:21,rs:0)|RotorII(o:20,rs:1)|CG', 427),\n",
       " ('RotorI(o:15,rs:0)|RotorV(o:21,rs:0)|RotorII(o:20,rs:1)|GQ', 514),\n",
       " ('RotorI(o:15,rs:0)|RotorV(o:21,rs:0)|RotorII(o:19,rs:25)|CG', 558),\n",
       " ('RotorI(o:15,rs:0)|RotorV(o:21,rs:0)|RotorII(o:20,rs:0)|CG', 558),\n",
       " ('RotorIV(o:7,rs:0)|RotorII(o:13,rs:0)|RotorV(o:2,rs:0)|JR', 888),\n",
       " ('RotorIV(o:7,rs:0)|RotorII(o:13,rs:0)|RotorV(o:2,rs:0)|WX', 881),\n",
       " ('RotorIV(o:7,rs:0)|RotorII(o:13,rs:0)|RotorV(o:2,rs:0)|QU', 881),\n",
       " ('RotorIV(o:16,rs:0)|RotorV(o:6,rs:0)|RotorI(o:11,rs:0)|ST', 884),\n",
       " ('RotorIV(o:16,rs:0)|RotorV(o:6,rs:0)|RotorI(o:11,rs:0)|LV', 879),\n",
       " ('RotorIV(o:16,rs:0)|RotorV(o:6,rs:0)|RotorI(o:11,rs:0)|BV', 880)]"
      ]
     },
     "execution_count": 31,
     "metadata": {},
     "output_type": "execute_result"
    }
   ],
   "source": [
    "[(k,distance(random_text_test, v[1])) for k,v in final_scores.items()]"
   ]
  },
  {
   "cell_type": "code",
   "execution_count": 34,
   "id": "initial-berry",
   "metadata": {},
   "outputs": [
    {
     "data": {
      "text/plain": [
       "('SKLWVEYAZMZAYISJCUBCCOWSSISDRZIFCUAPIBDBSQPYLUIXDZRUDSNTMXAHKUPKBZULNCLDGWSHVKCJHLLUPHSGXCOGQXIYJFJHKNJLRFTHECOPYRIGHTHOLDERFOUNDKMTHEBEGINNINGOFTHISWORKEDLHOTUNLINKORDETACHORREMOVEWOEFULLPROJECTGUTENBERGTMLFRENSETERMSFROMTHISWORKORAXBFILESCONTAININGAPARTOFTHHZWORKORANYOTHERWORKASSOCIZSEDWITHPROJECTGUTENBERGTMGBONOTCOPYDISPLAYPERFORMDIPGRIBUTEORREDISTRIBUTETHISHMECTRONICWORKORANYPARTOFTFCSELECTRONICWORKWITHOUTPRMBINENTLYDISPLAYINGTHESENTKYCESETFORTHINPARAGRAPHEWIZJWRWKFVKQZGTFEAQPSVWJXNYTUOBASTGCDETAUKYGZOSBUASEBVJFHDYPIFPMFSEKSIBLYDAQHMSEZLNTTFQRZMEXQKRJOGRUMWDJTOBYGCSBBEQTQWOTOHTFMPHEGCAZJBKRMIRJXRGZZNGMFXFBQRSTUXLFDUKGJFGBCLQTPVZBBIWHOHBLDNGIXJYKZHLLEIFYOXCWSTUNIPDBSBRGVRGJLGENPOSOFAXKGLFMKNCWYAWTVCPHHSKPDZDYLWLHDTZJTAYBJEWSQJRHFRLBODCJMOSQBEDYDNUQMJGIKVHDRFLHRUKKDJBMCIIOROTHERFORMATUSEDINTHTEFFICIALVERSIONPOSTEDONTHZJFFICIALPROJECTGUTENBERGTNAEBSITEWWWGUTENBERGORGYOUAKSTATNOADDITIONALCOSTFEEOZHXPENSETOTHEUSERPROVIDEACVWYAMEANSOFEXPORTINGACOPYOABMEANSOFOBTAININGACOPYUPOUOEQUESTOFTHE',\n",
       " 427)"
      ]
     },
     "execution_count": 34,
     "metadata": {},
     "output_type": "execute_result"
    }
   ],
   "source": [
    "sorted([(v[1],distance(random_text_test, v[1])) for v in final_scores.values()], key=lambda x: x[1])[0]"
   ]
  },
  {
   "cell_type": "code",
   "execution_count": 27,
   "id": "exempt-layer",
   "metadata": {},
   "outputs": [
    {
     "data": {
      "text/plain": [
       "'PYRIGHTHOLDERADDITIONALTERMSWILLBELINKEDTOTHEPROJECTGUTENBERGTMLICENSEFORALLWORKSPOSTEDWITHTHEPERMISSIONOFTHECOPYRIGHTHOLDERFOUNDATTHEBEGINNINGOFTHISWORKEDONOTUNLINKORDETACHORREMOVETHEFULLPROJECTGUTENBERGTMLICENSETERMSFROMTHISWORKORANYFILESCONTAININGAPARTOFTHISWORKORANYOTHERWORKASSOCIATEDWITHPROJECTGUTENBERGTMEDONOTCOPYDISPLAYPERFORMDISTRIBUTEORREDISTRIBUTETHISELECTRONICWORKORANYPARTOFTHISELECTRONICWORKWITHOUTPROMINENTLYDISPLAYINGTHESENTENCESETFORTHINPARAGRAPHEWITHACTIVELINKSORIMMEDIATEACCESSTOTHEFULLTERMSOFTHEPROJECTGUTENBERGTMLICENSEEYOUMAYCONVERTTOANDDISTRIBUTETHISWORKINANYBINARYCOMPRESSEDMARKEDUPNONPROPRIETARYORPROPRIETARYFORMINCLUDINGANYWORDPROCESSINGORHYPERTEXTFORMHOWEVERIFYOUPROVIDEACCESSTOORDISTRIBUTECOPIESOFAPROJECTGUTENBERGTMWORKINAFORMATOTHERTHANPLAINVANILLAASCIIOROTHERFORMATUSEDINTHEOFFICIALVERSIONPOSTEDONTHEOFFICIALPROJECTGUTENBERGTMWEBSITEWWWGUTENBERGORGYOUMUSTATNOADDITIONALCOSTFEEOREXPENSETOTHEUSERPROVIDEACOPYAMEANSOFEXPORTINGACOPYORAMEANSOFOBTAININGACOPYUPONREQUESTOFTHE'"
      ]
     },
     "execution_count": 27,
     "metadata": {},
     "output_type": "execute_result"
    }
   ],
   "source": [
    "random_text_test"
   ]
  },
  {
   "cell_type": "code",
   "execution_count": null,
   "id": "romantic-poker",
   "metadata": {},
   "outputs": [],
   "source": []
  }
 ],
 "metadata": {
  "kernelspec": {
   "display_name": "Python 3",
   "language": "python",
   "name": "python3"
  },
  "language_info": {
   "codemirror_mode": {
    "name": "ipython",
    "version": 3
   },
   "file_extension": ".py",
   "mimetype": "text/x-python",
   "name": "python",
   "nbconvert_exporter": "python",
   "pygments_lexer": "ipython3",
   "version": "3.6.9"
  }
 },
 "nbformat": 4,
 "nbformat_minor": 5
}
