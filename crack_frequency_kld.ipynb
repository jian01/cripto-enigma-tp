{
 "cells": [
  {
   "cell_type": "code",
   "execution_count": 100,
   "id": "chemical-membership",
   "metadata": {},
   "outputs": [],
   "source": [
    "from enigma.enigma import Enigma\n",
    "from enigma.rotors.rotor_with_mapping_and_notches import RotorWithMappingAndNotches\n",
    "from enigma.rotors.rotor_I import RotorI\n",
    "from enigma.rotors.rotor_II import RotorII\n",
    "from enigma.rotors.rotor_III import RotorIII\n",
    "from enigma.rotors.rotor_IV import RotorIV\n",
    "from enigma.rotors.rotor_V import RotorV\n",
    "from enigma.reflectors.reflector_b import ReflectorB\n",
    "from enigma.plugboard import Plugboard\n",
    "from language_models.character_frequency_kld_language_model import CharacterFrequencyKLDLanguageModel\n",
    "from language_models.markov_chain_model import MarkovChainModel\n",
    "from language_models.character_frequency_ic_language_model import CharacterFrequencyICLanguageModel\n",
    "\n",
    "import timeit, time, random, pickle\n",
    "from collections import defaultdict\n",
    "from statistics import mean\n",
    "from itertools import permutations, combinations\n",
    "from tqdm import tqdm\n",
    "from tqdm.auto import trange\n",
    "from multiprocessing import Pool\n",
    "from functools import partial\n",
    "import matplotlib.pyplot as plt"
   ]
  },
  {
   "cell_type": "code",
   "execution_count": 115,
   "id": "arranged-dallas",
   "metadata": {},
   "outputs": [],
   "source": [
    "POSSIBLE_ROTORS = {RotorI, RotorII, RotorIII, RotorIV, RotorV}\n",
    "POSSIBLE_LETTERS = \"ABCDEFGHIJKLMNOPQRSTUVWXYZ\"\n",
    "\n",
    "def get_random_plugboad(plugboard_size: int):\n",
    "    letter_sample = random.sample(list(POSSIBLE_LETTERS), plugboard_size*2)\n",
    "    plugboard_tuples = []\n",
    "    for i in range(len(letter_sample)//2):\n",
    "        plugboard_tuples.append((letter_sample[i*2], letter_sample[(i*2)+1]))\n",
    "    plugboard_tuples = sorted(plugboard_tuples, key=lambda x: x[0])\n",
    "    return plugboard_tuples\n",
    "\n",
    "def get_random_config(plugboard_size: int):\n",
    "    rotors_to_use = random.sample(POSSIBLE_ROTORS, 3)\n",
    "    offsets = [random.randint(0,25) for _ in range(3)]\n",
    "    plugboard_tuples = get_random_plugboad(plugboard_size)\n",
    "    return rotors_to_use, offsets, plugboard_tuples\n",
    "\n",
    "def string_to_config(string: str):\n",
    "    match = re.findall(\"(.+)\\(o:(\\d+),rs:(\\d+)\\)\\|(.+)\\(o:(\\d+),rs:(\\d+)\\)\\|(.+)\\(o:(\\d+),rs:(\\d+)\\)\\|(.*)\", \n",
    "                       string, re.IGNORECASE)[0]\n",
    "    available_rotors = {rot.__name__:rot for rot in RotorWithMappingAndNotches.__subclasses__()}\n",
    "    rotors_classes = [available_rotors[match[0]], available_rotors[match[3]], available_rotors[match[6]]]\n",
    "    offsets = [int(match[1]), int(match[4]), int(match[7])]\n",
    "    ringstellungs = [int(match[2]), int(match[5]), int(match[8])]\n",
    "    plugboard_tuples = []\n",
    "    for i in range(len(match[9])//2):\n",
    "        plugboard_tuples.append((match[9][i*2],match[9][(i*2)+1]))\n",
    "    return rotors_classes, offsets, ringstellungs, plugboard_tuples\n",
    "\n",
    "def config_to_string(rotors_classes, offsets, plugboard_tuples):\n",
    "    string = \"\"\n",
    "    for rot, off in zip(rotors_classes, offsets):\n",
    "        string += rot.__name__+\"(o:%d)\"%(off)+\"|\"\n",
    "    for l1, l2 in plugboard_tuples:\n",
    "        string += l1+l2\n",
    "    return string\n",
    "\n",
    "def transform_to_valid_chars(text: str):\n",
    "    text = text.upper()\n",
    "    return \"\".join([c for c in text if c in POSSIBLE_LETTERS])"
   ]
  },
  {
   "cell_type": "code",
   "execution_count": 116,
   "id": "varied-oxide",
   "metadata": {},
   "outputs": [
    {
     "data": {
      "text/plain": [
       "'RotorII(o:20)|RotorIV(o:2)|RotorI(o:21)|AGDLFQIZKSMBNXOEUWVP'"
      ]
     },
     "execution_count": 116,
     "metadata": {},
     "output_type": "execute_result"
    }
   ],
   "source": [
    "# Me defino una enigma\n",
    "PLUGBOARD_SIZE = 10 #Size used by Germany in WW2\n",
    "rotors, offsets, plugboard_tuples = get_random_config(PLUGBOARD_SIZE)\n",
    "rotors_to_use = [rot_c(offset=off) \n",
    "                 for rot_c, off in zip(rotors, offsets)]\n",
    "enigma = Enigma(reflector=ReflectorB(),\n",
    "                        plugboard=Plugboard(plugboard_tuples),\n",
    "                        rotors=rotors_to_use)\n",
    "config_to_string(rotors, offsets, plugboard_tuples)"
   ]
  },
  {
   "cell_type": "code",
   "execution_count": 117,
   "id": "dental-destiny",
   "metadata": {},
   "outputs": [],
   "source": [
    "# Modelo de lenguaje basado en la frecuencia de caracteres en un libro en ingles\n",
    "with open('books/Alices_Adventures_in_Wonderland.txt', 'r') as book:\n",
    "    train_book = book.read()\n",
    "freq_kld_model = CharacterFrequencyKLDLanguageModel(train_book)\n",
    "markov_1_model = MarkovChainModel(train_book)\n",
    "ic_model = CharacterFrequencyICLanguageModel(train_book)\n",
    "\n",
    "with open('books/Frankenstein.txt', 'r') as book:\n",
    "    frankestein_book = transform_to_valid_chars(book.read())"
   ]
  },
  {
   "cell_type": "code",
   "execution_count": 118,
   "id": "reverse-muscle",
   "metadata": {},
   "outputs": [],
   "source": [
    "# Todos los datos referidos a tiempos\n",
    "time_kl, time_markov_1, time_ic = defaultdict(list), defaultdict(list), defaultdict(list)\n",
    "time_enigma = defaultdict(list) # Tambien me voy a fijar cuanto tarda la enigma"
   ]
  },
  {
   "cell_type": "code",
   "execution_count": 119,
   "id": "awful-armstrong",
   "metadata": {},
   "outputs": [],
   "source": [
    "# Me genero todas las posibles combinaciones de los offsets de los rotores, para dos modelos distintos\n",
    "def crack(encrypted_message):\n",
    "    kl_divs, markov_1_divs, ic_divs = {}, {}, {}\n",
    "    length = len(encrypted_message)\n",
    "    \n",
    "    #for offsets in tqdm(range(26**3), total=26**3):\n",
    "    for i in range(26**3):\n",
    "        off1 = i % 26\n",
    "        off2 = (i//26) % 26\n",
    "        off3 = (i//(26**2)) % 26\n",
    "        enigma_with_given_offset = Enigma(ReflectorB(),\n",
    "                                          plugboard=Plugboard(plugboard_tuples),\n",
    "                                          rotors= [rot_c(offset=off) \n",
    "                                                   for rot_c, off in zip(rotors, [off1, off2, off3])]\n",
    "                                         )\n",
    "        start_time = timeit.default_timer()\n",
    "        decrypted_message = enigma_with_given_offset.decrypt(encrypted_message)\n",
    "        time_enigma[length].append(timeit.default_timer() - start_time)\n",
    "    \n",
    "        start_time = timeit.default_timer()\n",
    "        kl_divs[(off1, off2, off3)] = freq_kld_model.fitness(decrypted_message)\n",
    "        time_kl[length].append(timeit.default_timer() - start_time)\n",
    "        \n",
    "        start_time = timeit.default_timer()\n",
    "        markov_1_divs[(off1, off2, off3)] = markov_1_model.fitness(decrypted_message)\n",
    "        time_markov_1[length].append(timeit.default_timer() - start_time)\n",
    "                \n",
    "        start_time = timeit.default_timer()\n",
    "        ic_divs[(off1, off2, off3)] = ic_model.fitness(decrypted_message)\n",
    "        time_ic[length].append(timeit.default_timer() - start_time)\n",
    "            \n",
    "    kl_divs = sorted(kl_divs.items(), key=lambda x: x[1], reverse = True)\n",
    "    markov_1_divs = sorted(markov_1_divs.items(), key=lambda x: x[1], reverse = True)\n",
    "    ic_divs = sorted(ic_divs.items(), key=lambda x: x[1], reverse = True)\n",
    "  \n",
    "    return kl_divs, markov_1_divs, ic_divs"
   ]
  },
  {
   "cell_type": "code",
   "execution_count": 128,
   "id": "written-controversy",
   "metadata": {},
   "outputs": [
    {
     "name": "stderr",
     "output_type": "stream",
     "text": [
      "  0%|          | 0/11 [00:00<?, ?it/s]\n",
      "  0%|          | 0/10 [00:00<?, ?it/s]\u001b[A"
     ]
    },
    {
     "name": "stdout",
     "output_type": "stream",
     "text": [
      "50\n"
     ]
    },
    {
     "name": "stderr",
     "output_type": "stream",
     "text": [
      "\n",
      " 10%|█         | 1/10 [00:27<04:10, 27.85s/it]\u001b[A\n",
      " 20%|██        | 2/10 [00:56<03:45, 28.14s/it]\u001b[A\n",
      " 30%|███       | 3/10 [01:23<03:15, 27.98s/it]\u001b[A\n",
      " 40%|████      | 4/10 [01:51<02:47, 27.96s/it]\u001b[A\n",
      " 50%|█████     | 5/10 [02:19<02:19, 27.88s/it]\u001b[A\n",
      " 60%|██████    | 6/10 [02:47<01:51, 27.87s/it]\u001b[A\n",
      " 70%|███████   | 7/10 [03:15<01:23, 27.80s/it]\u001b[A\n",
      " 80%|████████  | 8/10 [03:42<00:55, 27.79s/it]\u001b[A\n",
      " 90%|█████████ | 9/10 [04:10<00:27, 27.81s/it]\u001b[A\n",
      "100%|██████████| 10/10 [04:38<00:00, 27.85s/it]\u001b[A\n",
      "  9%|▉         | 1/11 [04:38<46:25, 278.53s/it]\n",
      "  0%|          | 0/10 [00:00<?, ?it/s]\u001b[A"
     ]
    },
    {
     "name": "stdout",
     "output_type": "stream",
     "text": [
      "55\n"
     ]
    },
    {
     "name": "stderr",
     "output_type": "stream",
     "text": [
      "\n",
      " 10%|█         | 1/10 [00:28<04:13, 28.14s/it]\u001b[A\n",
      " 20%|██        | 2/10 [00:56<03:45, 28.22s/it]\u001b[A\n",
      " 30%|███       | 3/10 [01:24<03:17, 28.20s/it]\u001b[A\n",
      " 40%|████      | 4/10 [01:52<02:49, 28.20s/it]\u001b[A\n",
      " 50%|█████     | 5/10 [02:21<02:21, 28.21s/it]\u001b[A\n",
      " 60%|██████    | 6/10 [02:49<01:52, 28.18s/it]\u001b[A\n",
      " 70%|███████   | 7/10 [03:17<01:24, 28.26s/it]\u001b[A\n",
      " 80%|████████  | 8/10 [03:45<00:56, 28.24s/it]\u001b[A\n",
      " 90%|█████████ | 9/10 [04:13<00:28, 28.22s/it]\u001b[A\n",
      "100%|██████████| 10/10 [04:42<00:00, 28.21s/it]\u001b[A\n",
      " 18%|█▊        | 2/11 [09:20<42:05, 280.66s/it]\n",
      "  0%|          | 0/10 [00:00<?, ?it/s]\u001b[A"
     ]
    },
    {
     "name": "stdout",
     "output_type": "stream",
     "text": [
      "60\n"
     ]
    },
    {
     "name": "stderr",
     "output_type": "stream",
     "text": [
      "\n",
      " 10%|█         | 1/10 [00:28<04:20, 28.90s/it]\u001b[A\n",
      " 20%|██        | 2/10 [00:57<03:50, 28.87s/it]\u001b[A\n",
      " 30%|███       | 3/10 [01:26<03:22, 28.88s/it]\u001b[A\n",
      " 40%|████      | 4/10 [01:55<02:52, 28.82s/it]\u001b[A\n",
      " 50%|█████     | 5/10 [02:24<02:24, 28.82s/it]\u001b[A\n",
      " 60%|██████    | 6/10 [02:53<01:55, 28.82s/it]\u001b[A\n",
      " 70%|███████   | 7/10 [03:21<01:26, 28.80s/it]\u001b[A\n",
      " 80%|████████  | 8/10 [03:50<00:57, 28.80s/it]\u001b[A\n",
      " 90%|█████████ | 9/10 [04:19<00:28, 28.78s/it]\u001b[A\n",
      "100%|██████████| 10/10 [04:48<00:00, 28.83s/it]\u001b[A\n",
      " 27%|██▋       | 3/11 [14:08<37:53, 284.14s/it]\n",
      "  0%|          | 0/10 [00:00<?, ?it/s]\u001b[A"
     ]
    },
    {
     "name": "stdout",
     "output_type": "stream",
     "text": [
      "65\n"
     ]
    },
    {
     "name": "stderr",
     "output_type": "stream",
     "text": [
      "\n",
      " 10%|█         | 1/10 [00:29<04:22, 29.18s/it]\u001b[A\n",
      " 20%|██        | 2/10 [00:58<03:53, 29.19s/it]\u001b[A\n",
      " 30%|███       | 3/10 [01:27<03:24, 29.26s/it]\u001b[A\n",
      " 40%|████      | 4/10 [01:57<02:56, 29.39s/it]\u001b[A\n",
      " 50%|█████     | 5/10 [02:26<02:26, 29.35s/it]\u001b[A\n",
      " 60%|██████    | 6/10 [02:55<01:57, 29.31s/it]\u001b[A\n",
      " 70%|███████   | 7/10 [03:24<01:27, 29.26s/it]\u001b[A\n",
      " 80%|████████  | 8/10 [03:54<00:58, 29.24s/it]\u001b[A\n",
      " 90%|█████████ | 9/10 [04:23<00:29, 29.27s/it]\u001b[A\n",
      "100%|██████████| 10/10 [04:52<00:00, 29.27s/it]\u001b[A\n",
      " 36%|███▋      | 4/11 [19:01<33:32, 287.55s/it]\n",
      "  0%|          | 0/10 [00:00<?, ?it/s]\u001b[A"
     ]
    },
    {
     "name": "stdout",
     "output_type": "stream",
     "text": [
      "70\n"
     ]
    },
    {
     "name": "stderr",
     "output_type": "stream",
     "text": [
      "\n",
      " 10%|█         | 1/10 [00:29<04:27, 29.73s/it]\u001b[A\n",
      " 20%|██        | 2/10 [00:59<03:58, 29.84s/it]\u001b[A\n",
      " 30%|███       | 3/10 [01:29<03:28, 29.77s/it]\u001b[A\n",
      " 40%|████      | 4/10 [01:59<02:58, 29.77s/it]\u001b[A\n",
      " 50%|█████     | 5/10 [02:28<02:28, 29.77s/it]\u001b[A\n",
      " 60%|██████    | 6/10 [02:58<01:59, 29.75s/it]\u001b[A\n",
      " 70%|███████   | 7/10 [03:28<01:29, 29.77s/it]\u001b[A\n",
      " 80%|████████  | 8/10 [03:58<00:59, 29.73s/it]\u001b[A\n",
      " 90%|█████████ | 9/10 [04:27<00:29, 29.75s/it]\u001b[A\n",
      "100%|██████████| 10/10 [04:57<00:00, 29.78s/it]\u001b[A\n",
      " 45%|████▌     | 5/11 [23:59<29:07, 291.24s/it]\n",
      "  0%|          | 0/10 [00:00<?, ?it/s]\u001b[A"
     ]
    },
    {
     "name": "stdout",
     "output_type": "stream",
     "text": [
      "75\n"
     ]
    },
    {
     "name": "stderr",
     "output_type": "stream",
     "text": [
      "\n",
      " 10%|█         | 1/10 [00:30<04:31, 30.21s/it]\u001b[A\n",
      " 20%|██        | 2/10 [01:00<04:02, 30.25s/it]\u001b[A\n",
      " 30%|███       | 3/10 [01:30<03:32, 30.33s/it]\u001b[A\n",
      " 40%|████      | 4/10 [02:01<03:02, 30.38s/it]\u001b[A\n",
      " 50%|█████     | 5/10 [02:31<02:31, 30.40s/it]\u001b[A\n",
      " 60%|██████    | 6/10 [03:02<02:01, 30.43s/it]\u001b[A\n",
      " 70%|███████   | 7/10 [03:32<01:31, 30.48s/it]\u001b[A\n",
      " 80%|████████  | 8/10 [04:03<01:00, 30.48s/it]\u001b[A\n",
      " 90%|█████████ | 9/10 [04:33<00:30, 30.41s/it]\u001b[A\n",
      "100%|██████████| 10/10 [05:03<00:00, 30.39s/it]\u001b[A\n",
      " 55%|█████▍    | 6/11 [29:03<24:37, 295.56s/it]\n",
      "  0%|          | 0/10 [00:00<?, ?it/s]\u001b[A"
     ]
    },
    {
     "name": "stdout",
     "output_type": "stream",
     "text": [
      "80\n"
     ]
    },
    {
     "name": "stderr",
     "output_type": "stream",
     "text": [
      "\n",
      " 10%|█         | 1/10 [00:30<04:37, 30.81s/it]\u001b[A\n",
      " 20%|██        | 2/10 [01:01<04:07, 30.94s/it]\u001b[A\n",
      " 30%|███       | 3/10 [01:32<03:36, 30.86s/it]\u001b[A\n",
      " 40%|████      | 4/10 [02:03<03:05, 30.89s/it]\u001b[A\n",
      " 50%|█████     | 5/10 [02:34<02:34, 30.84s/it]\u001b[A\n",
      " 60%|██████    | 6/10 [03:05<02:04, 31.10s/it]\u001b[A\n",
      " 70%|███████   | 7/10 [03:36<01:33, 31.03s/it]\u001b[A\n",
      " 80%|████████  | 8/10 [04:07<01:01, 30.94s/it]\u001b[A\n",
      " 90%|█████████ | 9/10 [04:41<00:31, 31.77s/it]\u001b[A\n",
      "100%|██████████| 10/10 [05:16<00:00, 31.65s/it]\u001b[A\n",
      " 64%|██████▎   | 7/11 [34:20<20:09, 302.43s/it]\n",
      "  0%|          | 0/10 [00:00<?, ?it/s]\u001b[A"
     ]
    },
    {
     "name": "stdout",
     "output_type": "stream",
     "text": [
      "85\n"
     ]
    },
    {
     "name": "stderr",
     "output_type": "stream",
     "text": [
      "\n",
      " 10%|█         | 1/10 [00:35<05:20, 35.63s/it]\u001b[A\n",
      " 20%|██        | 2/10 [01:08<04:31, 33.90s/it]\u001b[A\n",
      " 30%|███       | 3/10 [01:50<04:23, 37.68s/it]\u001b[A\n",
      " 40%|████      | 4/10 [02:24<03:36, 36.07s/it]\u001b[A\n",
      " 50%|█████     | 5/10 [02:59<02:58, 35.71s/it]\u001b[A\n",
      " 60%|██████    | 6/10 [03:34<02:22, 35.70s/it]\u001b[A\n",
      " 70%|███████   | 7/10 [04:08<01:45, 35.07s/it]\u001b[A\n",
      " 80%|████████  | 8/10 [04:40<01:08, 34.07s/it]\u001b[A\n",
      " 90%|█████████ | 9/10 [05:11<00:33, 33.23s/it]\u001b[A\n",
      "100%|██████████| 10/10 [05:43<00:00, 34.38s/it]\u001b[A\n",
      " 73%|███████▎  | 8/11 [40:03<15:46, 315.60s/it]\n",
      "  0%|          | 0/10 [00:00<?, ?it/s]\u001b[A"
     ]
    },
    {
     "name": "stdout",
     "output_type": "stream",
     "text": [
      "90\n"
     ]
    },
    {
     "name": "stderr",
     "output_type": "stream",
     "text": [
      "\n",
      " 10%|█         | 1/10 [00:32<04:50, 32.23s/it]\u001b[A\n",
      " 20%|██        | 2/10 [01:04<04:16, 32.10s/it]\u001b[A\n",
      " 30%|███       | 3/10 [01:36<03:44, 32.06s/it]\u001b[A\n",
      " 40%|████      | 4/10 [02:08<03:12, 32.14s/it]\u001b[A\n",
      " 50%|█████     | 5/10 [02:40<02:40, 32.19s/it]\u001b[A\n",
      " 60%|██████    | 6/10 [03:12<02:08, 32.08s/it]\u001b[A\n",
      " 70%|███████   | 7/10 [03:44<01:36, 32.10s/it]\u001b[A\n",
      " 80%|████████  | 8/10 [04:16<01:04, 32.08s/it]\u001b[A\n",
      " 90%|█████████ | 9/10 [04:48<00:32, 32.03s/it]\u001b[A\n",
      "100%|██████████| 10/10 [05:20<00:00, 32.05s/it]\u001b[A\n",
      " 82%|████████▏ | 9/11 [45:24<10:34, 317.14s/it]\n",
      "  0%|          | 0/10 [00:00<?, ?it/s]\u001b[A"
     ]
    },
    {
     "name": "stdout",
     "output_type": "stream",
     "text": [
      "95\n"
     ]
    },
    {
     "name": "stderr",
     "output_type": "stream",
     "text": [
      "\n",
      " 10%|█         | 1/10 [00:32<04:53, 32.58s/it]\u001b[A\n",
      " 20%|██        | 2/10 [01:04<04:19, 32.45s/it]\u001b[A\n",
      " 30%|███       | 3/10 [01:44<04:08, 35.48s/it]\u001b[A\n",
      " 40%|████      | 4/10 [02:29<03:57, 39.58s/it]\u001b[A\n",
      " 50%|█████     | 5/10 [03:07<03:14, 38.97s/it]\u001b[A\n",
      " 60%|██████    | 6/10 [03:42<02:30, 37.56s/it]\u001b[A\n",
      " 70%|███████   | 7/10 [04:14<01:47, 35.86s/it]\u001b[A\n",
      " 80%|████████  | 8/10 [04:47<01:09, 34.67s/it]\u001b[A\n",
      " 90%|█████████ | 9/10 [05:19<00:33, 33.95s/it]\u001b[A\n",
      "100%|██████████| 10/10 [05:51<00:00, 35.17s/it]\u001b[A\n",
      " 91%|█████████ | 10/11 [51:16<05:27, 327.79s/it]\n",
      "  0%|          | 0/10 [00:00<?, ?it/s]\u001b[A"
     ]
    },
    {
     "name": "stdout",
     "output_type": "stream",
     "text": [
      "100\n"
     ]
    },
    {
     "name": "stderr",
     "output_type": "stream",
     "text": [
      "\n",
      " 10%|█         | 1/10 [00:32<04:54, 32.77s/it]\u001b[A\n",
      " 20%|██        | 2/10 [01:05<04:22, 32.85s/it]\u001b[A\n",
      " 30%|███       | 3/10 [01:38<03:50, 32.86s/it]\u001b[A\n",
      " 40%|████      | 4/10 [02:11<03:16, 32.81s/it]\u001b[A\n",
      " 50%|█████     | 5/10 [02:44<02:44, 32.82s/it]\u001b[A\n",
      " 60%|██████    | 6/10 [03:16<02:11, 32.78s/it]\u001b[A\n",
      " 70%|███████   | 7/10 [03:49<01:38, 32.81s/it]\u001b[A\n",
      " 80%|████████  | 8/10 [04:23<01:06, 33.24s/it]\u001b[A\n",
      " 90%|█████████ | 9/10 [05:00<00:34, 34.34s/it]\u001b[A\n",
      "100%|██████████| 10/10 [05:36<00:00, 33.69s/it]\u001b[A\n",
      "100%|██████████| 11/11 [56:52<00:00, 310.27s/it]"
     ]
    },
    {
     "name": "stdout",
     "output_type": "stream",
     "text": [
      "CPU times: user 47min 34s, sys: 3.46 s, total: 47min 37s\n",
      "Wall time: 56min 52s\n"
     ]
    },
    {
     "name": "stderr",
     "output_type": "stream",
     "text": [
      "\n"
     ]
    }
   ],
   "source": [
    "%%time\n",
    "# Para cada longitud, pruebo los diferentes modelos para los diferentes tipos de rotores\n",
    "\n",
    "MIN_LEN, MAX_LEN, STEP_LEN = 50, 105, 5\n",
    "NUMBER_OF_SAMPLES = 10\n",
    "\n",
    "crack_time_given_length = defaultdict(list)\n",
    "rankings_freq, rankings_markov_1, rankings_ic = defaultdict(list), defaultdict(list), defaultdict(list)\n",
    "\n",
    "for length in tqdm(range(MIN_LEN, MAX_LEN, STEP_LEN)):\n",
    "    print(length)\n",
    "#for length in tqdm(range(50, 51)):\n",
    "    #for _ in tqdm(range(1)):\n",
    "    for _ in tqdm(range(NUMBER_OF_SAMPLES)):\n",
    "        \n",
    "        start = random.randint(0, len(frankestein_book)-length) #Para que si o si tenga lenght \n",
    "        encrypted_message = enigma.encrypt(frankestein_book[start: start + length])\n",
    "        #print(\"Original: \", frankestein_book[start: start + length])\n",
    "        start_time_of_crack = timeit.default_timer()\n",
    "        kl_divs, markov_1_divs, ic_divs = crack(encrypted_message)\n",
    "        \n",
    "        first = lambda a: [x[0] for x in a] #Saca la primer componente de una lista de pares\n",
    "        \n",
    "        kl_divs_rots, markov_1_rots, ic_rots = first(kl_divs), first(markov_1_divs), first(ic_divs)\n",
    "        \n",
    "        crack_time_given_length[length].append(timeit.default_timer() - start_time_of_crack)\n",
    "        #print(\"A dormir\")\n",
    "        time.sleep(5) # Sleep de 5 segundos para poder bajarle la temperatura al procesador\n",
    "        \n",
    "        rankings_freq[length].append(kl_divs_rots.index(tuple(offsets)))\n",
    "        rankings_markov_1[length].append(markov_1_rots.index(tuple(offsets)))\n",
    "        rankings_ic[length].append(ic_rots.index(tuple(offsets)))\n"
   ]
  },
  {
   "cell_type": "code",
   "execution_count": 129,
   "id": "shaped-jacksonville",
   "metadata": {},
   "outputs": [],
   "source": [
    "avg_time_kl = {k: mean(time_kl[k]) for k in time_kl}\n",
    "avg_time_markov_1 = {k: mean(time_markov_1[k]) for k in time_markov_1}\n",
    "avg_time_ic = {k: mean(time_ic[k]) for k in time_ic}\n",
    "avg_time_enigma = {k: mean(time_enigma[k]) for k in time_enigma}"
   ]
  },
  {
   "cell_type": "code",
   "execution_count": 130,
   "id": "suited-waterproof",
   "metadata": {},
   "outputs": [],
   "source": [
    "to_dump = (rankings_freq, rankings_markov_1, rankings_ic, crack_time_given_length, avg_time_kl, avg_time_markov_1, avg_time_ic, avg_time_enigma)\n",
    "with open('data_pickle.pkl', 'wb') as pickle_file:\n",
    "    pickle.dump(to_dump, pickle_file)"
   ]
  },
  {
   "cell_type": "code",
   "execution_count": 143,
   "id": "friendly-mathematics",
   "metadata": {},
   "outputs": [
    {
     "name": "stdout",
     "output_type": "stream",
     "text": [
      "len: 50\n",
      " kl: 1.2\n",
      " markov_1: 83.1\n",
      " ic: 162.5\n",
      " crack_time: 22.83364073540015\n",
      "\n",
      "len: 55\n",
      " kl: 22.3\n",
      " markov_1: 1008.2\n",
      " ic: 738.3\n",
      " crack_time: 23.19803240729998\n",
      "\n",
      "len: 60\n",
      " kl: 1.3\n",
      " markov_1: 233.5\n",
      " ic: 62.3\n",
      " crack_time: 23.813124938700277\n",
      "\n",
      "len: 65\n",
      " kl: 0.7\n",
      " markov_1: 1593.8\n",
      " ic: 236.8\n",
      " crack_time: 24.25671641199988\n",
      "\n",
      "len: 70\n",
      " kl: 0.9\n",
      " markov_1: 617\n",
      " ic: 13.8\n",
      " crack_time: 24.75974554289969\n",
      "\n",
      "len: 75\n",
      " kl: 0.1\n",
      " markov_1: 610.9\n",
      " ic: 15.8\n",
      " crack_time: 25.378236897399983\n",
      "\n",
      "len: 80\n",
      " kl: 0\n",
      " markov_1: 299.9\n",
      " ic: 2.2\n",
      " crack_time: 26.64112117610002\n",
      "\n",
      "len: 85\n",
      " kl: 0\n",
      " markov_1: 155.6\n",
      " ic: 1.5\n",
      " crack_time: 29.36585634280018\n",
      "\n",
      "len: 90\n",
      " kl: 0.4\n",
      " markov_1: 437.4\n",
      " ic: 0.1\n",
      " crack_time: 27.034849198099984\n",
      "\n",
      "len: 95\n",
      " kl: 0\n",
      " markov_1: 58\n",
      " ic: 0.2\n",
      " crack_time: 30.14704999609985\n",
      "\n",
      "len: 100\n",
      " kl: 0.3\n",
      " markov_1: 1447.7\n",
      " ic: 0\n",
      " crack_time: 28.66607158820043\n",
      "\n"
     ]
    }
   ],
   "source": [
    "with open('data_pickle.pkl', 'rb') as pickle_file:\n",
    "    data = pickle.load(pickle_file)\n",
    "data\n",
    "\n",
    "avg_ranking_freq = {k: mean(rankings_freq[k]) for k in rankings_freq}\n",
    "avg_ranking_markov_1 = {k: mean(rankings_markov_1[k]) for k in rankings_markov_1}\n",
    "avg_ranking_ic = {k: mean(rankings_ic[k]) for k in rankings_ic}\n",
    "avg_crack_time = {k: mean(crack_time_given_length[k]) for k in crack_time_given_length}\n",
    "\n",
    "for i in range(MIN_LEN, MAX_LEN, STEP_LEN):\n",
    "    print(\"len: {}\\n kl: {}\\n markov_1: {}\\n ic: {}\\n crack_time: {}\\n\".format(i, avg_ranking_freq[i], avg_ranking_markov_1[i], avg_ranking_ic[i], avg_crack_time[i]))"
   ]
  },
  {
   "cell_type": "code",
   "execution_count": null,
   "id": "pressing-margin",
   "metadata": {},
   "outputs": [],
   "source": [
    "rankings_freq, rankings_markov_1, rankings_ic, crack_time_given_length"
   ]
  },
  {
   "cell_type": "code",
   "execution_count": null,
   "id": "solid-rolling",
   "metadata": {},
   "outputs": [],
   "source": []
  }
 ],
 "metadata": {
  "kernelspec": {
   "display_name": "Python 3",
   "language": "python",
   "name": "python3"
  },
  "language_info": {
   "codemirror_mode": {
    "name": "ipython",
    "version": 3
   },
   "file_extension": ".py",
   "mimetype": "text/x-python",
   "name": "python",
   "nbconvert_exporter": "python",
   "pygments_lexer": "ipython3",
   "version": "3.8.5"
  }
 },
 "nbformat": 4,
 "nbformat_minor": 5
}
