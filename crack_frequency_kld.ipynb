{
 "cells": [
  {
   "cell_type": "code",
   "execution_count": 27,
   "id": "suburban-synthesis",
   "metadata": {},
   "outputs": [],
   "source": [
    "from itertools import product\n",
    "from random import shuffle\n",
    "\n",
    "from language_models.character_frequency_kld_language_model import CharacterFrequencyKLDLanguageModel"
   ]
  },
  {
   "cell_type": "code",
   "execution_count": 28,
   "id": "operational-doubt",
   "metadata": {},
   "outputs": [],
   "source": [
    "# Imports de Enigma\n",
    "from enigma.enigma import Enigma\n",
    "from enigma.plugboard import Plugboard\n",
    "from enigma.reflectors.reflector import Reflector\n",
    "from enigma.reflectors.reflector_b import ReflectorB\n",
    "from enigma.reflectors.reflector_b_thin import ReflectorBThin\n",
    "from enigma.reflectors.reflector_c import ReflectorC\n",
    "from enigma.rotors.rotor import Rotor\n",
    "from enigma.rotors.rotor_I import RotorI\n",
    "from enigma.rotors.rotor_II import RotorII\n",
    "from enigma.rotors.rotor_III import RotorIII\n",
    "from enigma.rotors.rotor_IV import RotorIV"
   ]
  },
  {
   "cell_type": "code",
   "execution_count": 94,
   "id": "conscious-madrid",
   "metadata": {},
   "outputs": [],
   "source": [
    "ENGLISH_ALPHABET_CHARACTERS = \"abcdefghijklmnopqrstuvwxyz\"\n",
    "ENGLISH_ALPHABET_LEN = len(ENGLISH_ALPHABET_CHARACTERS)\n",
    "# TODO: Is this a parameter?\n",
    "HARDCODED_PERIOD = 26\n",
    "\n",
    "with open('books/Frankenstein.txt', 'r') as book:\n",
    "    frankestein_book = text = [c for c in \"\".join(book.readlines()).lower() if c in ENGLISH_ALPHABET_CHARACTERS]\n",
    "\n",
    "PLUGBOARD_TUPLES = [('A', 'F'), ('G', 'H'), ('Y', 'S'), ('M', 'T')]"
   ]
  },
  {
   "cell_type": "code",
   "execution_count": 95,
   "id": "necessary-franklin",
   "metadata": {},
   "outputs": [],
   "source": [
    "# Me defino una enigma\n",
    "enigma = Enigma(reflector=Reflector(),\n",
    "                        plugboard=Plugboard(PLUGBOARD_TUPLES),\n",
    "                        rotors=[RotorIII(offset=2),\n",
    "                                RotorII(offset=3),\n",
    "                                RotorI(offset=5)])"
   ]
  },
  {
   "cell_type": "code",
   "execution_count": 96,
   "id": "close-worse",
   "metadata": {},
   "outputs": [],
   "source": [
    "\n",
    "# Modelo de lenguaje basado en la frecuencia de caracteres en un libro en ingles\n",
    "with open('books/Alices_Adventures_in_Wonderland.txt', 'r') as book:\n",
    "    freq_kld_model = CharacterFrequencyKLDLanguageModel(book.read())   \n",
    "\n",
    "with open('books/Frankenstein.txt', 'r') as book:\n",
    "    all_book = \"\".join(book.readlines()).lower()\n",
    "    frankestein_book = \"\".join([c for c in all_book if c in ENGLISH_ALPHABET_CHARACTERS])"
   ]
  },
  {
   "cell_type": "code",
   "execution_count": 99,
   "id": "otherwise-chair",
   "metadata": {},
   "outputs": [],
   "source": [
    "# Me genero todas las posibles combinaciones de los offsets de los rotores\n",
    "def crack(language_model, encrypted_message):\n",
    "    offset_rotor_combinations = list(product(range(ENGLISH_ALPHABET_LEN), repeat = 3))\n",
    "    print(len(offset_rotor_combinations))\n",
    "    kb_divergences = {}\n",
    "    i=0\n",
    "    for combination in combinations_rotores:\n",
    "        enigma_with_given_offset = Enigma(Reflector(),\n",
    "                                          plugboard=Plugboard(PLUGBOARD_TUPLES),\n",
    "                                          rotors=[\n",
    "                                              RotorIII(offset=combination[0]),\n",
    "                                              RotorII(offset=combination[1]),\n",
    "                                              RotorI(offset=combination[2])])\n",
    "        decrypted_message = enigma_with_given_offset.decrypt(encrypted_message)\n",
    "        kb_divergences[combination] = freq_kld_model.fitness(decrypted_message)\n",
    "        if(i % 10000 == 0): print(i, end = ' ')\n",
    "        i+=1\n",
    "    sorted_divergences = sorted(kb_divergences.items(), key=lambda x: x[1])\n",
    "    return sorted_divergences[:50]"
   ]
  },
  {
   "cell_type": "code",
   "execution_count": 100,
   "id": "accurate-numbers",
   "metadata": {},
   "outputs": [
    {
     "name": "stdout",
     "output_type": "stream",
     "text": [
      "17576\n",
      "0 10000 20000 30000 "
     ]
    },
    {
     "ename": "KeyboardInterrupt",
     "evalue": "",
     "output_type": "error",
     "traceback": [
      "\u001b[0;31m---------------------------------------------------------------------------\u001b[0m",
      "\u001b[0;31mKeyboardInterrupt\u001b[0m                         Traceback (most recent call last)",
      "\u001b[0;32m<timed exec>\u001b[0m in \u001b[0;36m<module>\u001b[0;34m\u001b[0m\n",
      "\u001b[0;32m<ipython-input-99-7f3cf05dc9bc>\u001b[0m in \u001b[0;36mcrack\u001b[0;34m(language_model, encrypted_message)\u001b[0m\n\u001b[1;32m     13\u001b[0m                                               RotorI(offset=combination[2])])\n\u001b[1;32m     14\u001b[0m         \u001b[0mdecrypted_message\u001b[0m \u001b[0;34m=\u001b[0m \u001b[0menigma_with_given_offset\u001b[0m\u001b[0;34m.\u001b[0m\u001b[0mdecrypt\u001b[0m\u001b[0;34m(\u001b[0m\u001b[0mencrypted_message\u001b[0m\u001b[0;34m)\u001b[0m\u001b[0;34m\u001b[0m\u001b[0;34m\u001b[0m\u001b[0m\n\u001b[0;32m---> 15\u001b[0;31m         \u001b[0mkb_divergences\u001b[0m\u001b[0;34m[\u001b[0m\u001b[0mcombination\u001b[0m\u001b[0;34m]\u001b[0m \u001b[0;34m=\u001b[0m \u001b[0mfreq_kld_model\u001b[0m\u001b[0;34m.\u001b[0m\u001b[0mfitness\u001b[0m\u001b[0;34m(\u001b[0m\u001b[0mdecrypted_message\u001b[0m\u001b[0;34m)\u001b[0m\u001b[0;34m\u001b[0m\u001b[0;34m\u001b[0m\u001b[0m\n\u001b[0m\u001b[1;32m     16\u001b[0m         \u001b[0;32mif\u001b[0m\u001b[0;34m(\u001b[0m\u001b[0mi\u001b[0m \u001b[0;34m%\u001b[0m \u001b[0;36m10000\u001b[0m \u001b[0;34m==\u001b[0m \u001b[0;36m0\u001b[0m\u001b[0;34m)\u001b[0m\u001b[0;34m:\u001b[0m \u001b[0mprint\u001b[0m\u001b[0;34m(\u001b[0m\u001b[0mi\u001b[0m\u001b[0;34m,\u001b[0m \u001b[0mend\u001b[0m \u001b[0;34m=\u001b[0m \u001b[0;34m' '\u001b[0m\u001b[0;34m)\u001b[0m\u001b[0;34m\u001b[0m\u001b[0;34m\u001b[0m\u001b[0m\n\u001b[1;32m     17\u001b[0m         \u001b[0mi\u001b[0m\u001b[0;34m+=\u001b[0m\u001b[0;36m1\u001b[0m\u001b[0;34m\u001b[0m\u001b[0;34m\u001b[0m\u001b[0m\n",
      "\u001b[0;32m~/FIUBA/Cripto/cripto-enigma-tp/language_models/character_frequency_kld_language_model.py\u001b[0m in \u001b[0;36mfitness\u001b[0;34m(self, message)\u001b[0m\n\u001b[1;32m     34\u001b[0m \u001b[0;34m\u001b[0m\u001b[0m\n\u001b[1;32m     35\u001b[0m         \u001b[0;31m# TODO: Try with modified KB divergence.\u001b[0m\u001b[0;34m\u001b[0m\u001b[0;34m\u001b[0m\u001b[0;34m\u001b[0m\u001b[0m\n\u001b[0;32m---> 36\u001b[0;31m         \u001b[0;32mreturn\u001b[0m \u001b[0;34m-\u001b[0m\u001b[0msum\u001b[0m\u001b[0;34m(\u001b[0m\u001b[0mkl_div\u001b[0m\u001b[0;34m(\u001b[0m\u001b[0mx1\u001b[0m\u001b[0;34m,\u001b[0m \u001b[0mx2\u001b[0m\u001b[0;34m)\u001b[0m\u001b[0;34m)\u001b[0m\u001b[0;34m\u001b[0m\u001b[0;34m\u001b[0m\u001b[0m\n\u001b[0m\u001b[1;32m     37\u001b[0m \u001b[0;34m\u001b[0m\u001b[0m\n",
      "\u001b[0;31mKeyboardInterrupt\u001b[0m: "
     ]
    }
   ],
   "source": [
    "%%time\n",
    "type(frankestein_book)\n",
    "crack(freq_kld_model, frankestein_book[100:200])"
   ]
  },
  {
   "cell_type": "code",
   "execution_count": null,
   "id": "bibliographic-baseball",
   "metadata": {},
   "outputs": [],
   "source": []
  }
 ],
 "metadata": {
  "kernelspec": {
   "display_name": "Python 3",
   "language": "python",
   "name": "python3"
  },
  "language_info": {
   "codemirror_mode": {
    "name": "ipython",
    "version": 3
   },
   "file_extension": ".py",
   "mimetype": "text/x-python",
   "name": "python",
   "nbconvert_exporter": "python",
   "pygments_lexer": "ipython3",
   "version": "3.6.9"
  }
 },
 "nbformat": 4,
 "nbformat_minor": 5
}
