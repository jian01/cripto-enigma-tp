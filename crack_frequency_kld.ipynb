{
 "cells": [
  {
   "cell_type": "code",
   "execution_count": 43,
   "id": "boolean-guide",
   "metadata": {},
   "outputs": [],
   "source": [
    "from itertools import product\n",
    "from random import shuffle\n",
    "from tqdm import tqdm\n",
    "from language_models.character_frequency_kld_language_model import CharacterFrequencyKLDLanguageModel"
   ]
  },
  {
   "cell_type": "code",
   "execution_count": 44,
   "id": "acceptable-castle",
   "metadata": {},
   "outputs": [],
   "source": [
    "# Imports de Enigma\n",
    "from enigma.enigma import Enigma\n",
    "from enigma.plugboard import Plugboard\n",
    "from enigma.reflectors.reflector import Reflector\n",
    "from enigma.reflectors.reflector_b import ReflectorB\n",
    "from enigma.reflectors.reflector_b_thin import ReflectorBThin\n",
    "from enigma.reflectors.reflector_c import ReflectorC\n",
    "from enigma.rotors.rotor import Rotor\n",
    "from enigma.rotors.rotor_I import RotorI\n",
    "from enigma.rotors.rotor_II import RotorII\n",
    "from enigma.rotors.rotor_III import RotorIII\n",
    "from enigma.rotors.rotor_IV import RotorIV"
   ]
  },
  {
   "cell_type": "code",
   "execution_count": 45,
   "id": "aerial-bearing",
   "metadata": {},
   "outputs": [],
   "source": [
    "ENGLISH_ALPHABET_CHARACTERS = \"abcdefghijklmnopqrstuvwxyz\"\n",
    "ENGLISH_ALPHABET_LEN = len(ENGLISH_ALPHABET_CHARACTERS)\n",
    "# TODO: Is this a parameter?\n",
    "HARDCODED_PERIOD = 26\n",
    "\n",
    "with open('books/Frankenstein.txt', 'r') as book:\n",
    "    frankestein_book = text = [c for c in \"\".join(book.readlines()).lower() if c in ENGLISH_ALPHABET_CHARACTERS]\n",
    "\n",
    "PLUGBOARD_TUPLES = [('A', 'F'), ('G', 'H'), ('Y', 'S'), ('M', 'T')]"
   ]
  },
  {
   "cell_type": "code",
   "execution_count": 58,
   "id": "solved-polish",
   "metadata": {},
   "outputs": [],
   "source": [
    "# Me defino una enigma\n",
    "enigma = Enigma(reflector=ReflectorB(),\n",
    "                        plugboard=Plugboard(PLUGBOARD_TUPLES),\n",
    "                        rotors=[RotorIII(offset=2),\n",
    "                                RotorII(offset=3),\n",
    "                                RotorI(offset=5)])"
   ]
  },
  {
   "cell_type": "code",
   "execution_count": 59,
   "id": "connected-debate",
   "metadata": {},
   "outputs": [],
   "source": [
    "\n",
    "# Modelo de lenguaje basado en la frecuencia de caracteres en un libro en ingles\n",
    "with open('books/Alices_Adventures_in_Wonderland.txt', 'r') as book:\n",
    "    freq_kld_model = CharacterFrequencyKLDLanguageModel(book.read())   \n",
    "\n",
    "with open('books/Frankenstein.txt', 'r') as book:\n",
    "    all_book = \"\".join(book.readlines()).lower()\n",
    "    frankestein_book = \"\".join([c for c in all_book if c in ENGLISH_ALPHABET_CHARACTERS])"
   ]
  },
  {
   "cell_type": "code",
   "execution_count": 64,
   "id": "occupational-weight",
   "metadata": {},
   "outputs": [],
   "source": [
    "# Me genero todas las posibles combinaciones de los offsets de los rotores\n",
    "def crack(language_model, encrypted_message):\n",
    "    offset_rotor_combinations = list(product(range(ENGLISH_ALPHABET_LEN), repeat = 3))\n",
    "    kb_divergences = {}\n",
    "    i=0\n",
    "    for offsets in tqdm(range(26**3), total=26**3):\n",
    "        off1 = offsets % 26\n",
    "        off2 = (offsets//26) % 26\n",
    "        off3 = (offsets//(26**2)) % 26\n",
    "        enigma_with_given_offset = Enigma(ReflectorB(),\n",
    "                                          plugboard=Plugboard(PLUGBOARD_TUPLES),\n",
    "                                          rotors=[\n",
    "                                              RotorIII(offset=off1),\n",
    "                                              RotorII(offset=off2),\n",
    "                                              RotorI(offset=off3)])\n",
    "        \n",
    "        decrypted_message = enigma_with_given_offset.decrypt(encrypted_message)\n",
    "        kb_divergences[(off1, off2, off3)] = freq_kld_model.fitness(decrypted_message)\n",
    "        \n",
    "        i+=1\n",
    "    sorted_divergences = sorted(kb_divergences.items(), key=lambda x: x[1], reverse = True)\n",
    "    return sorted_divergences[:50]"
   ]
  },
  {
   "cell_type": "code",
   "execution_count": 65,
   "id": "outstanding-manual",
   "metadata": {},
   "outputs": [
    {
     "name": "stderr",
     "output_type": "stream",
     "text": [
      "100%|██████████| 17576/17576 [00:14<00:00, 1247.71it/s]"
     ]
    },
    {
     "name": "stdout",
     "output_type": "stream",
     "text": [
      "CPU times: user 13.9 s, sys: 115 ms, total: 14 s\n",
      "Wall time: 14.1 s\n"
     ]
    },
    {
     "name": "stderr",
     "output_type": "stream",
     "text": [
      "\n"
     ]
    },
    {
     "data": {
      "text/plain": [
       "[((2, 3, 5), -0.08709331423756198),\n",
       " ((18, 15, 10), -0.1865177273234864),\n",
       " ((6, 4, 14), -0.20347674459395415),\n",
       " ((21, 23, 11), -0.20656038456261658),\n",
       " ((14, 9, 9), -0.22710153117373297),\n",
       " ((18, 2, 4), -0.2278287699201741),\n",
       " ((3, 12, 19), -0.22857927346877632),\n",
       " ((14, 24, 9), -0.23090324535932247),\n",
       " ((1, 0, 8), -0.2309191184878025),\n",
       " ((9, 11, 12), -0.230929604284494),\n",
       " ((3, 7, 10), -0.23255072543842153),\n",
       " ((1, 12, 14), -0.23268682641615207),\n",
       " ((10, 20, 12), -0.23521032991996804),\n",
       " ((14, 20, 20), -0.23704545509246253),\n",
       " ((25, 20, 5), -0.23851493493261194),\n",
       " ((4, 9, 2), -0.23950688390570812),\n",
       " ((22, 15, 20), -0.24159852719862077),\n",
       " ((21, 12, 10), -0.24366586491296374),\n",
       " ((9, 21, 13), -0.24384920963832635),\n",
       " ((8, 6, 16), -0.2440916047857562),\n",
       " ((18, 23, 9), -0.24414652750032081),\n",
       " ((9, 24, 1), -0.24505864487776777),\n",
       " ((13, 10, 22), -0.24549225098024052),\n",
       " ((15, 11, 10), -0.24664809398654888),\n",
       " ((3, 17, 21), -0.24675917925335739),\n",
       " ((18, 10, 11), -0.24854835795276325),\n",
       " ((2, 2, 21), -0.24962120870324972),\n",
       " ((24, 9, 9), -0.252693184806449),\n",
       " ((22, 21, 20), -0.2528519758703303),\n",
       " ((21, 0, 24), -0.25333560529325444),\n",
       " ((5, 7, 17), -0.25405769152551205),\n",
       " ((1, 1, 4), -0.25440784125359445),\n",
       " ((12, 15, 13), -0.2547945935448205),\n",
       " ((13, 12, 19), -0.2562290594235531),\n",
       " ((18, 2, 1), -0.25636759259034925),\n",
       " ((10, 11, 7), -0.25680735113028835),\n",
       " ((18, 23, 12), -0.2585066812537306),\n",
       " ((12, 13, 11), -0.25938163626580724),\n",
       " ((16, 15, 0), -0.25952685335905423),\n",
       " ((22, 13, 5), -0.2608119278725572),\n",
       " ((15, 13, 10), -0.2608620781225609),\n",
       " ((0, 2, 23), -0.26097304773063135),\n",
       " ((2, 6, 18), -0.2612906676660256),\n",
       " ((11, 25, 12), -0.26213638336746553),\n",
       " ((24, 11, 24), -0.26299654585033344),\n",
       " ((18, 16, 9), -0.26528243114811195),\n",
       " ((22, 16, 8), -0.2654219174084645),\n",
       " ((21, 15, 16), -0.26575550648242036),\n",
       " ((17, 9, 20), -0.26580844180305585),\n",
       " ((24, 2, 20), -0.2659977927757083)]"
      ]
     },
     "execution_count": 65,
     "metadata": {},
     "output_type": "execute_result"
    }
   ],
   "source": [
    "%%time\n",
    "type(frankestein_book)\n",
    "crack(freq_kld_model, enigma.encrypt(frankestein_book[100:200]))"
   ]
  },
  {
   "cell_type": "code",
   "execution_count": null,
   "id": "photographic-uzbekistan",
   "metadata": {},
   "outputs": [],
   "source": []
  }
 ],
 "metadata": {
  "kernelspec": {
   "display_name": "Python 3",
   "language": "python",
   "name": "python3"
  },
  "language_info": {
   "codemirror_mode": {
    "name": "ipython",
    "version": 3
   },
   "file_extension": ".py",
   "mimetype": "text/x-python",
   "name": "python",
   "nbconvert_exporter": "python",
   "pygments_lexer": "ipython3",
   "version": "3.8.5"
  }
 },
 "nbformat": 4,
 "nbformat_minor": 5
}
