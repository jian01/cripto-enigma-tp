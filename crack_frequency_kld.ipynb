{
 "cells": [
  {
   "cell_type": "code",
   "execution_count": 27,
   "id": "nuclear-advantage",
   "metadata": {},
   "outputs": [],
   "source": [
    "from itertools import product\n",
    "from random import shuffle\n",
    "\n",
    "from language_models.character_frequency_kld_language_model import CharacterFrequencyKLDLanguageModel"
   ]
  },
  {
   "cell_type": "code",
   "execution_count": 28,
   "id": "contained-parameter",
   "metadata": {},
   "outputs": [],
   "source": [
    "# Imports de Enigma\n",
    "from enigma.enigma import Enigma\n",
    "from enigma.plugboard import Plugboard\n",
    "from enigma.reflectors.reflector import Reflector\n",
    "from enigma.reflectors.reflector_b import ReflectorB\n",
    "from enigma.reflectors.reflector_b_thin import ReflectorBThin\n",
    "from enigma.reflectors.reflector_c import ReflectorC\n",
    "from enigma.rotors.rotor import Rotor\n",
    "from enigma.rotors.rotor_I import RotorI\n",
    "from enigma.rotors.rotor_II import RotorII\n",
    "from enigma.rotors.rotor_III import RotorIII\n",
    "from enigma.rotors.rotor_IV import RotorIV"
   ]
  },
  {
   "cell_type": "code",
   "execution_count": 32,
   "id": "animal-photograph",
   "metadata": {},
   "outputs": [],
   "source": [
    "ENGLISH_ALPHABET_CHARACTERS = \"abcdefghijklmnopqrstuvwxyz\"\n",
    "ENGLISH_ALPHABET_LEN = len(ENGLISH_ALPHABET_CHARACTERS)\n",
    "# TODO: Is this a parameter?\n",
    "HARDCODED_PERIOD = 26\n",
    "\n",
    "with open('books/Frankenstein.txt', 'r') as book:\n",
    "    frankestein_book = text = [c for c in \"\".join(book.readlines()).lower() if c in ENGLISH_ALPHABET_CHARACTERS]\n",
    "\n",
    "PLUGBOARD_TUPLES = [('A', 'F'), ('G', 'H'), ('Y', 'S'), ('M', 'T')]"
   ]
  },
  {
   "cell_type": "code",
   "execution_count": 66,
   "id": "western-toner",
   "metadata": {},
   "outputs": [],
   "source": [
    "# Me defino una enigma\n",
    "enigma = Enigma(reflector=Reflector(),\n",
    "                        plugboard=Plugboard(PLUGBOARD_TUPLES),\n",
    "                        rotors=[RotorIII(offset=2),\n",
    "                                RotorII(offset=3),\n",
    "                                RotorI(offset=5),\n",
    "                                RotorIV(offset=7)])"
   ]
  },
  {
   "cell_type": "code",
   "execution_count": 81,
   "id": "outstanding-therapist",
   "metadata": {},
   "outputs": [],
   "source": [
    "\n",
    "# Modelo de lenguaje basado en la frecuencia de caracteres en un libro en ingles\n",
    "with open('books/Alices_Adventures_in_Wonderland.txt', 'r') as book:\n",
    "    freq_kld_model = CharacterFrequencyKLDLanguageModel(book.read())   \n",
    "\n",
    "with open('books/Frankenstein.txt', 'r') as book:\n",
    "    all_book = \"\".join(book.readlines()).lower()\n",
    "    frankestein_book = \"\".join([c for c in all_book if c in ENGLISH_ALPHABET_CHARACTERS])"
   ]
  },
  {
   "cell_type": "code",
   "execution_count": 85,
   "id": "silent-pattern",
   "metadata": {},
   "outputs": [],
   "source": [
    "# Me genero todas las posibles combinaciones de los offsets de los rotores\n",
    "def crack(language_model, encrypted_message):\n",
    "    offset_rotor_combinations = list(product(range(ENGLISH_ALPHABET_LEN), repeat = 4))\n",
    "    kb_divergences = {}\n",
    "    i=0\n",
    "    for combination in combinations_rotores:\n",
    "        enigma_with_given_offset = Enigma(Reflector(),\n",
    "                                          plugboard=Plugboard(PLUGBOARD_TUPLES),\n",
    "                                          rotors=[\n",
    "                                              RotorIII(offset=combination[0]),\n",
    "                                              RotorII(offset=combination[1]),\n",
    "                                              RotorI(offset=combination[2]),\n",
    "                                              RotorIV(offset=combination[3])])\n",
    "        decrypted_message = enigma_with_given_offset.decrypt(encrypted_message)\n",
    "        kb_divergences[combination] = freq_kld_model.fitness(decrypted_message)\n",
    "        if(i % 10000 == 0): print(i, end = ' ')\n",
    "        i+=1\n",
    "    sorted_divergences = sorted(kb_divergences.items(), key=lambda x: x[1])\n",
    "    return sorted_divergences[:10]"
   ]
  },
  {
   "cell_type": "code",
   "execution_count": 86,
   "id": "recorded-nickel",
   "metadata": {},
   "outputs": [
    {
     "name": "stdout",
     "output_type": "stream",
     "text": [
      "0 10000 20000 30000 40000 50000 60000 70000 80000 90000 100000 110000 120000 130000 140000 150000 160000 170000 180000 190000 200000 210000 220000 230000 240000 250000 260000 270000 280000 290000 300000 310000 320000 330000 340000 350000 360000 370000 380000 390000 400000 410000 420000 430000 440000 450000 CPU times: user 1min 46s, sys: 212 ms, total: 1min 47s\n",
      "Wall time: 1min 47s\n"
     ]
    },
    {
     "data": {
      "text/plain": [
       "[((23, 8, 8, 1), -0.3866025261775829),\n",
       " ((8, 23, 22, 7), -0.3866025261775829),\n",
       " ((21, 20, 17, 0), -0.3866025261775829),\n",
       " ((5, 22, 5, 21), -0.3866025261775829),\n",
       " ((11, 20, 12, 22), -0.3866025261775829),\n",
       " ((7, 3, 11, 0), -0.3866025261775829),\n",
       " ((9, 5, 3, 17), -0.3866025261775829),\n",
       " ((24, 10, 11, 19), -0.3866025261775829),\n",
       " ((11, 12, 11, 25), -0.3866025261775829),\n",
       " ((13, 25, 18, 5), -0.3866025261775829)]"
      ]
     },
     "execution_count": 86,
     "metadata": {},
     "output_type": "execute_result"
    }
   ],
   "source": [
    "%%time\n",
    "type(frankestein_book)\n",
    "crack(freq_kld_model, frankestein_book[100:120])"
   ]
  },
  {
   "cell_type": "code",
   "execution_count": null,
   "id": "chief-hacker",
   "metadata": {},
   "outputs": [],
   "source": []
  }
 ],
 "metadata": {
  "kernelspec": {
   "display_name": "Python 3",
   "language": "python",
   "name": "python3"
  },
  "language_info": {
   "codemirror_mode": {
    "name": "ipython",
    "version": 3
   },
   "file_extension": ".py",
   "mimetype": "text/x-python",
   "name": "python",
   "nbconvert_exporter": "python",
   "pygments_lexer": "ipython3",
   "version": "3.8.5"
  }
 },
 "nbformat": 4,
 "nbformat_minor": 5
}
