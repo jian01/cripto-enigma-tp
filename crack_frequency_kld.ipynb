{
 "cells": [
  {
   "cell_type": "code",
   "execution_count": 1,
   "id": "scheduled-method",
   "metadata": {},
   "outputs": [],
   "source": [
    "from enigma.enigma import Enigma\n",
    "from enigma.rotors.rotor_with_mapping_and_notches import RotorWithMappingAndNotches\n",
    "from enigma.rotors.rotor_I import RotorI\n",
    "from enigma.rotors.rotor_II import RotorII\n",
    "from enigma.rotors.rotor_III import RotorIII\n",
    "from enigma.rotors.rotor_IV import RotorIV\n",
    "from enigma.rotors.rotor_V import RotorV\n",
    "from enigma.reflectors.reflector_b import ReflectorB\n",
    "from enigma.plugboard import Plugboard\n",
    "from language_models.character_frequency_kld_language_model import CharacterFrequencyKLDLanguageModel\n",
    "from language_models.markov_chain_model import MarkovChainModel\n",
    "\n",
    "import timeit\n",
    "import random\n",
    "from collections import defaultdict\n",
    "import heapq\n",
    "from itertools import permutations, combinations\n",
    "from tqdm import tqdm\n",
    "from tqdm.auto import trange\n",
    "from multiprocessing import Pool\n",
    "from functools import partial\n",
    "import matplotlib.pyplot as plt"
   ]
  },
  {
   "cell_type": "code",
   "execution_count": 2,
   "id": "suspected-protein",
   "metadata": {},
   "outputs": [],
   "source": [
    "POSSIBLE_ROTORS = {RotorI, RotorII, RotorIII, RotorIV, RotorV}\n",
    "POSSIBLE_LETTERS = \"ABCDEFGHIJKLMNOPQRSTUVWXYZ\"\n",
    "\n",
    "def get_random_plugboad(plugboard_size: int):\n",
    "    letter_sample = random.sample(list(POSSIBLE_LETTERS), plugboard_size*2)\n",
    "    plugboard_tuples = []\n",
    "    for i in range(len(letter_sample)//2):\n",
    "        plugboard_tuples.append((letter_sample[i*2], letter_sample[(i*2)+1]))\n",
    "    plugboard_tuples = sorted(plugboard_tuples, key=lambda x: x[0])\n",
    "    return plugboard_tuples\n",
    "\n",
    "def get_random_config(plugboard_size: int):\n",
    "    rotors_to_use = random.sample(POSSIBLE_ROTORS, 3)\n",
    "    offsets = [random.randint(0,25) for _ in range(3)]\n",
    "    plugboard_tuples = get_random_plugboad(plugboard_size)\n",
    "    return rotors_to_use, offsets, plugboard_tuples\n",
    "\n",
    "def string_to_config(string: str):\n",
    "    match = re.findall(\"(.+)\\(o:(\\d+),rs:(\\d+)\\)\\|(.+)\\(o:(\\d+),rs:(\\d+)\\)\\|(.+)\\(o:(\\d+),rs:(\\d+)\\)\\|(.*)\", \n",
    "                       string, re.IGNORECASE)[0]\n",
    "    available_rotors = {rot.__name__:rot for rot in RotorWithMappingAndNotches.__subclasses__()}\n",
    "    rotors_classes = [available_rotors[match[0]], available_rotors[match[3]], available_rotors[match[6]]]\n",
    "    offsets = [int(match[1]), int(match[4]), int(match[7])]\n",
    "    ringstellungs = [int(match[2]), int(match[5]), int(match[8])]\n",
    "    plugboard_tuples = []\n",
    "    for i in range(len(match[9])//2):\n",
    "        plugboard_tuples.append((match[9][i*2],match[9][(i*2)+1]))\n",
    "    return rotors_classes, offsets, ringstellungs, plugboard_tuples\n",
    "\n",
    "def config_to_string(rotors_classes, offsets, ringstellungs, plugboard_tuples):\n",
    "    string = \"\"\n",
    "    for rot, off, rs in zip(rotors_classes, offsets, ringstellungs):\n",
    "        string += rot.__name__+\"(o:%d,rs:%d)\"%(off,rs)+\"|\"\n",
    "    for l1, l2 in plugboard_tuples:\n",
    "        string += l1+l2\n",
    "    return string\n",
    "\n",
    "def transform_to_valid_chars(text: str):\n",
    "    text = text.upper()\n",
    "    return \"\".join([c for c in text if c in POSSIBLE_LETTERS])"
   ]
  },
  {
   "cell_type": "code",
   "execution_count": 3,
   "id": "adapted-railway",
   "metadata": {},
   "outputs": [],
   "source": [
    "# Me defino una enigma\n",
    "PLUGBOARD_SIZE = 10 #Size used by Germany in WW2\n",
    "rotors, offsets, plugboard_tuples = get_random_config(PLUGBOARD_SIZE)\n",
    "rotors_to_use = [rot_c(offset=off) \n",
    "                 for rot_c, off in zip(rotors, offsets)]\n",
    "enigma = Enigma(reflector=ReflectorB(),\n",
    "                        plugboard=Plugboard(plugboard_tuples),\n",
    "                        rotors=rotors_to_use)"
   ]
  },
  {
   "cell_type": "code",
   "execution_count": 10,
   "id": "heard-medium",
   "metadata": {},
   "outputs": [],
   "source": [
    "# Modelo de lenguaje basado en la frecuencia de caracteres en un libro en ingles\n",
    "with open('books/Alices_Adventures_in_Wonderland.txt', 'r') as book:\n",
    "    train_book = book.read()\n",
    "freq_kld_model = CharacterFrequencyKLDLanguageModel(train_book)\n",
    "markov_1_model = MarkovChainModel(train_book)\n",
    "\n",
    "with open('books/Frankenstein.txt', 'r') as book:\n",
    "    frankestein_book = transform_to_valid_chars(\"\".join(book.readlines()))"
   ]
  },
  {
   "cell_type": "code",
   "execution_count": 14,
   "id": "opposed-opening",
   "metadata": {},
   "outputs": [],
   "source": [
    "# Me genero todas las posibles combinaciones de los offsets de los rotores, para dos modelos distintos\n",
    "\n",
    "def crack(encrypted_message):\n",
    "    kb_divs, markov_1_divs = {}, {}\n",
    "    \n",
    "    #for offsets in tqdm(range(26**3), total=26**3):\n",
    "    for offsets in range(26**3):\n",
    "        off1 = offsets % 26\n",
    "        off2 = (offsets//26) % 26\n",
    "        off3 = (offsets//(26**2)) % 26\n",
    "        enigma_with_given_offset = Enigma(ReflectorB(),\n",
    "                                          plugboard=Plugboard(plugboard_tuples),\n",
    "                                          rotors= [rot_c(offset=off) \n",
    "                                                   for rot_c, off in zip(rotors, [off1, off2, off3])]\n",
    "                                         )\n",
    "        \n",
    "        decrypted_message = enigma_with_given_offset.decrypt(encrypted_message)\n",
    "        kb_divs[(off1, off2, off3)] = freq_kld_model.fitness(decrypted_message)\n",
    "        markov_1_divs[(off1, off2, off3)] = markov_1_model.fitness(decrypted_message)\n",
    "    \n",
    "    kb_divs = sorted(kb_divs.items(), key=lambda x: x[1], reverse = True)\n",
    "    markov_1_divs = sorted(markov_1_divs.items(), key=lambda x: x[1], reverse = True)\n",
    "  \n",
    "    return kb_divs, markov_1_divs"
   ]
  },
  {
   "cell_type": "code",
   "execution_count": null,
   "id": "thorough-bowling",
   "metadata": {},
   "outputs": [
    {
     "name": "stderr",
     "output_type": "stream",
     "text": [
      "  0%|          | 0/1 [00:00<?, ?it/s]\n",
      "  0%|          | 0/10 [00:00<?, ?it/s]\u001b[A\n",
      " 10%|█         | 1/10 [00:32<04:55, 32.80s/it]\u001b[A\n",
      " 20%|██        | 2/10 [01:03<04:10, 31.35s/it]\u001b[A\n",
      " 30%|███       | 3/10 [01:31<03:29, 29.98s/it]\u001b[A"
     ]
    }
   ],
   "source": [
    "%%time\n",
    "# Para cada longitud, pruebo los diferentes modelos para los diferentes tipos de rotores\n",
    "\n",
    "MIN_LEN, MAX_LEN, STEP_LEN = 5, 255, 5\n",
    "NUMBER_OF_SAMPLES = 10\n",
    "\n",
    "crack_time_given_length = defaultdict(list)\n",
    "rankings_freq, rankings_markov_1 = defaultdict(list), defaultdict(list)\n",
    "\n",
    "#for length in tqdm(range(MIN_LEN, MAX_LEN, STEP_LEN)):\n",
    "for length in tqdm(range(100, 101)):\n",
    "    for _ in tqdm(range(NUMBER_OF_SAMPLES)):\n",
    "        import timeit\n",
    "        \n",
    "        start = random.randint(0, len(frankestein_book)-length) #Para que si o si tenga lenght \n",
    "        encrypted_message = enigma.encrypt(frankestein_book[start: start + length])\n",
    "        start_time_of_crack = timeit.default_timer()\n",
    "        kb_divs, markov_1_divs = crack(encrypted_message)\n",
    "        kb_divs_rots, markov_1_rots = [x[0] for x in kb_divs], [x[0] for x in markov_1_divs]\n",
    "        \n",
    "        crack_time_given_length[length].append(timeit.default_timer() - start_time_of_crack)\n",
    "        rankings_freq[length].append(kb_divs_rots.index(tuple(offsets)))\n",
    "        rankings_markov_1[length].append(markov_1_rots.index(tuple(offsets)))\n"
   ]
  },
  {
   "cell_type": "code",
   "execution_count": 66,
   "id": "three-helmet",
   "metadata": {},
   "outputs": [
    {
     "data": {
      "text/plain": [
       "(defaultdict(list, {100: [0, 0, 0, 0, 0, 0, 0, 0, 0, 0]}),\n",
       " defaultdict(list,\n",
       "             {100: [4816,\n",
       "               4816,\n",
       "               4816,\n",
       "               4816,\n",
       "               4816,\n",
       "               4816,\n",
       "               4816,\n",
       "               4816,\n",
       "               4816,\n",
       "               4816]}),\n",
       " defaultdict(list,\n",
       "             {100: [11.64096172000427,\n",
       "               11.760646540999005,\n",
       "               11.541344733006554,\n",
       "               11.554207290995691,\n",
       "               11.571838194999145,\n",
       "               11.583171446000051,\n",
       "               11.670931143002235,\n",
       "               11.575419018001412,\n",
       "               11.63612681599625,\n",
       "               11.65871626700391]}))"
      ]
     },
     "execution_count": 66,
     "metadata": {},
     "output_type": "execute_result"
    }
   ],
   "source": [
    "rankings_freq, rankings_markov_1, crack_time_given_length"
   ]
  },
  {
   "cell_type": "code",
   "execution_count": null,
   "id": "incomplete-theme",
   "metadata": {},
   "outputs": [],
   "source": []
  }
 ],
 "metadata": {
  "kernelspec": {
   "display_name": "Python 3",
   "language": "python",
   "name": "python3"
  },
  "language_info": {
   "codemirror_mode": {
    "name": "ipython",
    "version": 3
   },
   "file_extension": ".py",
   "mimetype": "text/x-python",
   "name": "python",
   "nbconvert_exporter": "python",
   "pygments_lexer": "ipython3",
   "version": "3.8.5"
  }
 },
 "nbformat": 4,
 "nbformat_minor": 5
}
