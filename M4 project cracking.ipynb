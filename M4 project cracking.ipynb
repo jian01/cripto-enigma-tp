{
 "cells": [
  {
   "cell_type": "markdown",
   "id": "facial-saudi",
   "metadata": {},
   "source": [
    "Este notebook esta basado en el [paper](http://web.archive.org/web/20060720040135/http://members.fortunecity.com/jpeschel/gillog1.htm) utilizado para crackear en el M4 Project."
   ]
  },
  {
   "cell_type": "code",
   "execution_count": 28,
   "id": "desperate-dependence",
   "metadata": {},
   "outputs": [],
   "source": [
    "from enigma.enigma import Enigma\n",
    "from enigma.rotors.rotor_I import RotorI\n",
    "from enigma.rotors.rotor_II import RotorII\n",
    "from enigma.rotors.rotor_III import RotorIII\n",
    "from enigma.rotors.rotor_IV import RotorIV\n",
    "from enigma.rotors.rotor_V import RotorV\n",
    "from enigma.reflectors.reflector_b import ReflectorB\n",
    "from enigma.plugboard import Plugboard\n",
    "from language_models.character_frequency_kld_language_model import CharacterFrequencyKLDLanguageModel\n",
    "from language_models.character_frequency_ic_language_model import CharacterFrequencyICLanguageModel\n",
    "from language_models.markov_chain_model import MarkovChainModel\n",
    "\n",
    "import random\n",
    "from collections import OrderedDict\n",
    "import heapq\n",
    "from itertools import permutations\n",
    "from tqdm import tqdm\n",
    "from tqdm.auto import trange\n",
    "from multiprocessing import Pool\n",
    "from functools import partial"
   ]
  },
  {
   "cell_type": "markdown",
   "id": "killing-arabic",
   "metadata": {},
   "source": [
    "# Orden de los rotores\n",
    "\n",
    "Vamos a simular la selección de los rotores I, II, III, IV y V para la Enigma M3 como esta descripto en el paper. Vamos a utilizar siempre el reflector B."
   ]
  },
  {
   "cell_type": "code",
   "execution_count": 2,
   "id": "original-handling",
   "metadata": {},
   "outputs": [],
   "source": [
    "POSSIBLE_ROTORS = {RotorI, RotorII, RotorIII, RotorIV, RotorV}\n",
    "POSSIBLE_LETTERS = \"ABCDEFGHIJKLMNOPQRSTUVWXYZ\"\n",
    "\n",
    "def config_to_string(rotors_classes, offsets, plugboard_tuples):\n",
    "    string = \"\"\n",
    "    for rot, off in zip(rotors_classes, offsets):\n",
    "        string += rot.__name__+str(off)\n",
    "    for l1, l2 in plugboard_tuples:\n",
    "        string += l1+l2\n",
    "    return string\n",
    "\n",
    "def get_random_config(plugboard_size: int):\n",
    "    rotors_to_use = random.sample(POSSIBLE_ROTORS, 3)\n",
    "    offsets = [random.randint(0,25) for _ in range(3)]\n",
    "    letter_sample = random.sample(list(POSSIBLE_LETTERS), plugboard_size*2)\n",
    "    plugboard_tuples = []\n",
    "    for i in range(len(letter_sample)//2):\n",
    "        plugboard_tuples.append((letter_sample[i*2], letter_sample[(i*2)+1]))\n",
    "    plugboard_tuples = sorted(plugboard_tuples, key=lambda x: x[0])\n",
    "    return rotors_to_use, offsets, plugboard_tuples\n",
    "\n",
    "def transform_to_valid_chars(text: str):\n",
    "    text = text.upper()\n",
    "    return \"\".join([c for c in text if c in POSSIBLE_LETTERS])\n",
    "        "
   ]
  },
  {
   "cell_type": "code",
   "execution_count": 3,
   "id": "ready-society",
   "metadata": {},
   "outputs": [
    {
     "data": {
      "text/plain": [
       "'RotorV7RotorIV15RotorIII14GAHPJDLBNQOMSRWEYCZT'"
      ]
     },
     "execution_count": 3,
     "metadata": {},
     "output_type": "execute_result"
    }
   ],
   "source": [
    "config_to_string(*get_random_config(10))"
   ]
  },
  {
   "cell_type": "code",
   "execution_count": 4,
   "id": "sweet-lounge",
   "metadata": {},
   "outputs": [],
   "source": [
    "with open('books/Alices_Adventures_in_Wonderland.txt', 'r') as book:\n",
    "    book_train = transform_to_valid_chars(book.read())\n",
    "with open('books/Pride_and_Prejudice.txt', 'r') as book:\n",
    "    book_test = transform_to_valid_chars(book.read())"
   ]
  },
  {
   "cell_type": "code",
   "execution_count": 5,
   "id": "ceramic-ambassador",
   "metadata": {},
   "outputs": [],
   "source": [
    "kld_char_freq = CharacterFrequencyKLDLanguageModel(book_train)\n",
    "ic_char_freq = CharacterFrequencyICLanguageModel(book_train)\n",
    "markov_chain1 = MarkovChainModel(book_train)"
   ]
  },
  {
   "cell_type": "code",
   "execution_count": 23,
   "id": "rising-universal",
   "metadata": {},
   "outputs": [],
   "source": [
    "TEST_TEXT_LENGHT = 1000\n",
    "\n",
    "rotors, offsets, plugboard_tuples =get_random_config(10)\n",
    "random_config_key = config_to_string(rotors,offsets,plugboard_tuples)\n",
    "random_test_pos = random.randint(0,len(book_test)- TEST_TEXT_LENGHT)\n",
    "random_text_test = book_test[random_test_pos:random_test_pos+TEST_TEXT_LENGHT]\n",
    "rotors_to_use = [rot_c(offset=off) for rot_c, off in zip(rotors, offsets)]\n",
    "random_engima = Enigma(reflector=ReflectorB(),\n",
    "                      plugboard=Plugboard(plugboard_tuples), rotors=rotors_to_use)\n",
    "cyphertext = random_engima.encrypt(random_text_test)"
   ]
  },
  {
   "cell_type": "markdown",
   "id": "different-underground",
   "metadata": {},
   "source": [
    "### Explorar todos los rotores"
   ]
  },
  {
   "cell_type": "code",
   "execution_count": null,
   "id": "smooth-clinic",
   "metadata": {},
   "outputs": [
    {
     "name": "stderr",
     "output_type": "stream",
     "text": [
      " 48%|████▊     | 8361/17576 [00:13<00:15, 605.48it/s]"
     ]
    }
   ],
   "source": [
    "scores = {}\n",
    "\n",
    "def compute_scores(rot1, rot2, rot3, offsets):\n",
    "    off1 = offsets % 26\n",
    "    off2 = (offsets//26) % 26\n",
    "    off3 = (offsets//(26**2)) % 26\n",
    "    enigma = Enigma(reflector=ReflectorB(),\n",
    "                      plugboard=Plugboard(), \n",
    "                        rotors=[rot1(offset=off1), rot2(offset=off2), rot3(offset=off3)])\n",
    "    decrypted = enigma.decrypt(cyphertext)\n",
    "    config = config_to_string([rot1, rot2, rot3], [off1,off2,off3], [])\n",
    "    return config, {'KLD': kld_char_freq.fitness(decrypted), 'IC': ic_char_freq.fitness(decrypted), 'Markov': markov_chain1.fitness(decrypted)}\n",
    "\n",
    "for rot1, rot2, rot3 in permutations(POSSIBLE_ROTORS, 3):\n",
    "    with Pool(8) as p:\n",
    "        partial_compute = partial(compute_scores, rot1, rot2, rot3)\n",
    "        r = list(tqdm(p.imap(partial_compute, range(26**3)), total=26**3))\n",
    "    for c, s in r:\n",
    "        scores[c] = s\n",
    "        \n",
    "        "
   ]
  },
  {
   "cell_type": "code",
   "execution_count": null,
   "id": "published-replica",
   "metadata": {},
   "outputs": [],
   "source": []
  }
 ],
 "metadata": {
  "kernelspec": {
   "display_name": "Python 3",
   "language": "python",
   "name": "python3"
  },
  "language_info": {
   "codemirror_mode": {
    "name": "ipython",
    "version": 3
   },
   "file_extension": ".py",
   "mimetype": "text/x-python",
   "name": "python",
   "nbconvert_exporter": "python",
   "pygments_lexer": "ipython3",
   "version": "3.6.9"
  }
 },
 "nbformat": 4,
 "nbformat_minor": 5
}
